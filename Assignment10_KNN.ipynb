{
  "nbformat": 4,
  "nbformat_minor": 0,
  "metadata": {
    "colab": {
      "name": "Assignment10_KNN.ipynb",
      "provenance": [],
      "collapsed_sections": [],
      "authorship_tag": "ABX9TyOnyHFoWXFif8rPk9ZeMNHE"
    },
    "kernelspec": {
      "name": "python3",
      "display_name": "Python 3"
    },
    "language_info": {
      "name": "python"
    }
  },
  "cells": [
    {
      "cell_type": "markdown",
      "metadata": {
        "id": "Sx9rMBUIVwvw"
      },
      "source": [
        "# ***Import libraries***"
      ]
    },
    {
      "cell_type": "code",
      "metadata": {
        "id": "VEnixI0tTKrs"
      },
      "source": [
        "import pandas as pd\n",
        "import numpy as np\n",
        "import matplotlib.pyplot as plt\n",
        "from google.colab import files\n",
        "import seaborn as sns\n",
        "import warnings\n",
        "%matplotlib inline"
      ],
      "execution_count": 1,
      "outputs": []
    },
    {
      "cell_type": "markdown",
      "metadata": {
        "id": "0ydQFeQvV5hU"
      },
      "source": [
        "# ***Import DataSet***"
      ]
    },
    {
      "cell_type": "markdown",
      "metadata": {
        "id": "0faTYy0zWNYU"
      },
      "source": [
        "Upload glass.csv Dataset. Link : https://archive.ics.uci.edu/ml/datasets/glass+identification"
      ]
    },
    {
      "cell_type": "code",
      "metadata": {
        "colab": {
          "resources": {
            "http://localhost:8080/nbextensions/google.colab/files.js": {
              "data": "Ly8gQ29weXJpZ2h0IDIwMTcgR29vZ2xlIExMQwovLwovLyBMaWNlbnNlZCB1bmRlciB0aGUgQXBhY2hlIExpY2Vuc2UsIFZlcnNpb24gMi4wICh0aGUgIkxpY2Vuc2UiKTsKLy8geW91IG1heSBub3QgdXNlIHRoaXMgZmlsZSBleGNlcHQgaW4gY29tcGxpYW5jZSB3aXRoIHRoZSBMaWNlbnNlLgovLyBZb3UgbWF5IG9idGFpbiBhIGNvcHkgb2YgdGhlIExpY2Vuc2UgYXQKLy8KLy8gICAgICBodHRwOi8vd3d3LmFwYWNoZS5vcmcvbGljZW5zZXMvTElDRU5TRS0yLjAKLy8KLy8gVW5sZXNzIHJlcXVpcmVkIGJ5IGFwcGxpY2FibGUgbGF3IG9yIGFncmVlZCB0byBpbiB3cml0aW5nLCBzb2Z0d2FyZQovLyBkaXN0cmlidXRlZCB1bmRlciB0aGUgTGljZW5zZSBpcyBkaXN0cmlidXRlZCBvbiBhbiAiQVMgSVMiIEJBU0lTLAovLyBXSVRIT1VUIFdBUlJBTlRJRVMgT1IgQ09ORElUSU9OUyBPRiBBTlkgS0lORCwgZWl0aGVyIGV4cHJlc3Mgb3IgaW1wbGllZC4KLy8gU2VlIHRoZSBMaWNlbnNlIGZvciB0aGUgc3BlY2lmaWMgbGFuZ3VhZ2UgZ292ZXJuaW5nIHBlcm1pc3Npb25zIGFuZAovLyBsaW1pdGF0aW9ucyB1bmRlciB0aGUgTGljZW5zZS4KCi8qKgogKiBAZmlsZW92ZXJ2aWV3IEhlbHBlcnMgZm9yIGdvb2dsZS5jb2xhYiBQeXRob24gbW9kdWxlLgogKi8KKGZ1bmN0aW9uKHNjb3BlKSB7CmZ1bmN0aW9uIHNwYW4odGV4dCwgc3R5bGVBdHRyaWJ1dGVzID0ge30pIHsKICBjb25zdCBlbGVtZW50ID0gZG9jdW1lbnQuY3JlYXRlRWxlbWVudCgnc3BhbicpOwogIGVsZW1lbnQudGV4dENvbnRlbnQgPSB0ZXh0OwogIGZvciAoY29uc3Qga2V5IG9mIE9iamVjdC5rZXlzKHN0eWxlQXR0cmlidXRlcykpIHsKICAgIGVsZW1lbnQuc3R5bGVba2V5XSA9IHN0eWxlQXR0cmlidXRlc1trZXldOwogIH0KICByZXR1cm4gZWxlbWVudDsKfQoKLy8gTWF4IG51bWJlciBvZiBieXRlcyB3aGljaCB3aWxsIGJlIHVwbG9hZGVkIGF0IGEgdGltZS4KY29uc3QgTUFYX1BBWUxPQURfU0laRSA9IDEwMCAqIDEwMjQ7CgpmdW5jdGlvbiBfdXBsb2FkRmlsZXMoaW5wdXRJZCwgb3V0cHV0SWQpIHsKICBjb25zdCBzdGVwcyA9IHVwbG9hZEZpbGVzU3RlcChpbnB1dElkLCBvdXRwdXRJZCk7CiAgY29uc3Qgb3V0cHV0RWxlbWVudCA9IGRvY3VtZW50LmdldEVsZW1lbnRCeUlkKG91dHB1dElkKTsKICAvLyBDYWNoZSBzdGVwcyBvbiB0aGUgb3V0cHV0RWxlbWVudCB0byBtYWtlIGl0IGF2YWlsYWJsZSBmb3IgdGhlIG5leHQgY2FsbAogIC8vIHRvIHVwbG9hZEZpbGVzQ29udGludWUgZnJvbSBQeXRob24uCiAgb3V0cHV0RWxlbWVudC5zdGVwcyA9IHN0ZXBzOwoKICByZXR1cm4gX3VwbG9hZEZpbGVzQ29udGludWUob3V0cHV0SWQpOwp9CgovLyBUaGlzIGlzIHJvdWdobHkgYW4gYXN5bmMgZ2VuZXJhdG9yIChub3Qgc3VwcG9ydGVkIGluIHRoZSBicm93c2VyIHlldCksCi8vIHdoZXJlIHRoZXJlIGFyZSBtdWx0aXBsZSBhc3luY2hyb25vdXMgc3RlcHMgYW5kIHRoZSBQeXRob24gc2lkZSBpcyBnb2luZwovLyB0byBwb2xsIGZvciBjb21wbGV0aW9uIG9mIGVhY2ggc3RlcC4KLy8gVGhpcyB1c2VzIGEgUHJvbWlzZSB0byBibG9jayB0aGUgcHl0aG9uIHNpZGUgb24gY29tcGxldGlvbiBvZiBlYWNoIHN0ZXAsCi8vIHRoZW4gcGFzc2VzIHRoZSByZXN1bHQgb2YgdGhlIHByZXZpb3VzIHN0ZXAgYXMgdGhlIGlucHV0IHRvIHRoZSBuZXh0IHN0ZXAuCmZ1bmN0aW9uIF91cGxvYWRGaWxlc0NvbnRpbnVlKG91dHB1dElkKSB7CiAgY29uc3Qgb3V0cHV0RWxlbWVudCA9IGRvY3VtZW50LmdldEVsZW1lbnRCeUlkKG91dHB1dElkKTsKICBjb25zdCBzdGVwcyA9IG91dHB1dEVsZW1lbnQuc3RlcHM7CgogIGNvbnN0IG5leHQgPSBzdGVwcy5uZXh0KG91dHB1dEVsZW1lbnQubGFzdFByb21pc2VWYWx1ZSk7CiAgcmV0dXJuIFByb21pc2UucmVzb2x2ZShuZXh0LnZhbHVlLnByb21pc2UpLnRoZW4oKHZhbHVlKSA9PiB7CiAgICAvLyBDYWNoZSB0aGUgbGFzdCBwcm9taXNlIHZhbHVlIHRvIG1ha2UgaXQgYXZhaWxhYmxlIHRvIHRoZSBuZXh0CiAgICAvLyBzdGVwIG9mIHRoZSBnZW5lcmF0b3IuCiAgICBvdXRwdXRFbGVtZW50Lmxhc3RQcm9taXNlVmFsdWUgPSB2YWx1ZTsKICAgIHJldHVybiBuZXh0LnZhbHVlLnJlc3BvbnNlOwogIH0pOwp9CgovKioKICogR2VuZXJhdG9yIGZ1bmN0aW9uIHdoaWNoIGlzIGNhbGxlZCBiZXR3ZWVuIGVhY2ggYXN5bmMgc3RlcCBvZiB0aGUgdXBsb2FkCiAqIHByb2Nlc3MuCiAqIEBwYXJhbSB7c3RyaW5nfSBpbnB1dElkIEVsZW1lbnQgSUQgb2YgdGhlIGlucHV0IGZpbGUgcGlja2VyIGVsZW1lbnQuCiAqIEBwYXJhbSB7c3RyaW5nfSBvdXRwdXRJZCBFbGVtZW50IElEIG9mIHRoZSBvdXRwdXQgZGlzcGxheS4KICogQHJldHVybiB7IUl0ZXJhYmxlPCFPYmplY3Q+fSBJdGVyYWJsZSBvZiBuZXh0IHN0ZXBzLgogKi8KZnVuY3Rpb24qIHVwbG9hZEZpbGVzU3RlcChpbnB1dElkLCBvdXRwdXRJZCkgewogIGNvbnN0IGlucHV0RWxlbWVudCA9IGRvY3VtZW50LmdldEVsZW1lbnRCeUlkKGlucHV0SWQpOwogIGlucHV0RWxlbWVudC5kaXNhYmxlZCA9IGZhbHNlOwoKICBjb25zdCBvdXRwdXRFbGVtZW50ID0gZG9jdW1lbnQuZ2V0RWxlbWVudEJ5SWQob3V0cHV0SWQpOwogIG91dHB1dEVsZW1lbnQuaW5uZXJIVE1MID0gJyc7CgogIGNvbnN0IHBpY2tlZFByb21pc2UgPSBuZXcgUHJvbWlzZSgocmVzb2x2ZSkgPT4gewogICAgaW5wdXRFbGVtZW50LmFkZEV2ZW50TGlzdGVuZXIoJ2NoYW5nZScsIChlKSA9PiB7CiAgICAgIHJlc29sdmUoZS50YXJnZXQuZmlsZXMpOwogICAgfSk7CiAgfSk7CgogIGNvbnN0IGNhbmNlbCA9IGRvY3VtZW50LmNyZWF0ZUVsZW1lbnQoJ2J1dHRvbicpOwogIGlucHV0RWxlbWVudC5wYXJlbnRFbGVtZW50LmFwcGVuZENoaWxkKGNhbmNlbCk7CiAgY2FuY2VsLnRleHRDb250ZW50ID0gJ0NhbmNlbCB1cGxvYWQnOwogIGNvbnN0IGNhbmNlbFByb21pc2UgPSBuZXcgUHJvbWlzZSgocmVzb2x2ZSkgPT4gewogICAgY2FuY2VsLm9uY2xpY2sgPSAoKSA9PiB7CiAgICAgIHJlc29sdmUobnVsbCk7CiAgICB9OwogIH0pOwoKICAvLyBXYWl0IGZvciB0aGUgdXNlciB0byBwaWNrIHRoZSBmaWxlcy4KICBjb25zdCBmaWxlcyA9IHlpZWxkIHsKICAgIHByb21pc2U6IFByb21pc2UucmFjZShbcGlja2VkUHJvbWlzZSwgY2FuY2VsUHJvbWlzZV0pLAogICAgcmVzcG9uc2U6IHsKICAgICAgYWN0aW9uOiAnc3RhcnRpbmcnLAogICAgfQogIH07CgogIGNhbmNlbC5yZW1vdmUoKTsKCiAgLy8gRGlzYWJsZSB0aGUgaW5wdXQgZWxlbWVudCBzaW5jZSBmdXJ0aGVyIHBpY2tzIGFyZSBub3QgYWxsb3dlZC4KICBpbnB1dEVsZW1lbnQuZGlzYWJsZWQgPSB0cnVlOwoKICBpZiAoIWZpbGVzKSB7CiAgICByZXR1cm4gewogICAgICByZXNwb25zZTogewogICAgICAgIGFjdGlvbjogJ2NvbXBsZXRlJywKICAgICAgfQogICAgfTsKICB9CgogIGZvciAoY29uc3QgZmlsZSBvZiBmaWxlcykgewogICAgY29uc3QgbGkgPSBkb2N1bWVudC5jcmVhdGVFbGVtZW50KCdsaScpOwogICAgbGkuYXBwZW5kKHNwYW4oZmlsZS5uYW1lLCB7Zm9udFdlaWdodDogJ2JvbGQnfSkpOwogICAgbGkuYXBwZW5kKHNwYW4oCiAgICAgICAgYCgke2ZpbGUudHlwZSB8fCAnbi9hJ30pIC0gJHtmaWxlLnNpemV9IGJ5dGVzLCBgICsKICAgICAgICBgbGFzdCBtb2RpZmllZDogJHsKICAgICAgICAgICAgZmlsZS5sYXN0TW9kaWZpZWREYXRlID8gZmlsZS5sYXN0TW9kaWZpZWREYXRlLnRvTG9jYWxlRGF0ZVN0cmluZygpIDoKICAgICAgICAgICAgICAgICAgICAgICAgICAgICAgICAgICAgJ24vYSd9IC0gYCkpOwogICAgY29uc3QgcGVyY2VudCA9IHNwYW4oJzAlIGRvbmUnKTsKICAgIGxpLmFwcGVuZENoaWxkKHBlcmNlbnQpOwoKICAgIG91dHB1dEVsZW1lbnQuYXBwZW5kQ2hpbGQobGkpOwoKICAgIGNvbnN0IGZpbGVEYXRhUHJvbWlzZSA9IG5ldyBQcm9taXNlKChyZXNvbHZlKSA9PiB7CiAgICAgIGNvbnN0IHJlYWRlciA9IG5ldyBGaWxlUmVhZGVyKCk7CiAgICAgIHJlYWRlci5vbmxvYWQgPSAoZSkgPT4gewogICAgICAgIHJlc29sdmUoZS50YXJnZXQucmVzdWx0KTsKICAgICAgfTsKICAgICAgcmVhZGVyLnJlYWRBc0FycmF5QnVmZmVyKGZpbGUpOwogICAgfSk7CiAgICAvLyBXYWl0IGZvciB0aGUgZGF0YSB0byBiZSByZWFkeS4KICAgIGxldCBmaWxlRGF0YSA9IHlpZWxkIHsKICAgICAgcHJvbWlzZTogZmlsZURhdGFQcm9taXNlLAogICAgICByZXNwb25zZTogewogICAgICAgIGFjdGlvbjogJ2NvbnRpbnVlJywKICAgICAgfQogICAgfTsKCiAgICAvLyBVc2UgYSBjaHVua2VkIHNlbmRpbmcgdG8gYXZvaWQgbWVzc2FnZSBzaXplIGxpbWl0cy4gU2VlIGIvNjIxMTU2NjAuCiAgICBsZXQgcG9zaXRpb24gPSAwOwogICAgZG8gewogICAgICBjb25zdCBsZW5ndGggPSBNYXRoLm1pbihmaWxlRGF0YS5ieXRlTGVuZ3RoIC0gcG9zaXRpb24sIE1BWF9QQVlMT0FEX1NJWkUpOwogICAgICBjb25zdCBjaHVuayA9IG5ldyBVaW50OEFycmF5KGZpbGVEYXRhLCBwb3NpdGlvbiwgbGVuZ3RoKTsKICAgICAgcG9zaXRpb24gKz0gbGVuZ3RoOwoKICAgICAgY29uc3QgYmFzZTY0ID0gYnRvYShTdHJpbmcuZnJvbUNoYXJDb2RlLmFwcGx5KG51bGwsIGNodW5rKSk7CiAgICAgIHlpZWxkIHsKICAgICAgICByZXNwb25zZTogewogICAgICAgICAgYWN0aW9uOiAnYXBwZW5kJywKICAgICAgICAgIGZpbGU6IGZpbGUubmFtZSwKICAgICAgICAgIGRhdGE6IGJhc2U2NCwKICAgICAgICB9LAogICAgICB9OwoKICAgICAgbGV0IHBlcmNlbnREb25lID0gZmlsZURhdGEuYnl0ZUxlbmd0aCA9PT0gMCA/CiAgICAgICAgICAxMDAgOgogICAgICAgICAgTWF0aC5yb3VuZCgocG9zaXRpb24gLyBmaWxlRGF0YS5ieXRlTGVuZ3RoKSAqIDEwMCk7CiAgICAgIHBlcmNlbnQudGV4dENvbnRlbnQgPSBgJHtwZXJjZW50RG9uZX0lIGRvbmVgOwoKICAgIH0gd2hpbGUgKHBvc2l0aW9uIDwgZmlsZURhdGEuYnl0ZUxlbmd0aCk7CiAgfQoKICAvLyBBbGwgZG9uZS4KICB5aWVsZCB7CiAgICByZXNwb25zZTogewogICAgICBhY3Rpb246ICdjb21wbGV0ZScsCiAgICB9CiAgfTsKfQoKc2NvcGUuZ29vZ2xlID0gc2NvcGUuZ29vZ2xlIHx8IHt9OwpzY29wZS5nb29nbGUuY29sYWIgPSBzY29wZS5nb29nbGUuY29sYWIgfHwge307CnNjb3BlLmdvb2dsZS5jb2xhYi5fZmlsZXMgPSB7CiAgX3VwbG9hZEZpbGVzLAogIF91cGxvYWRGaWxlc0NvbnRpbnVlLAp9Owp9KShzZWxmKTsK",
              "ok": true,
              "headers": [
                [
                  "content-type",
                  "application/javascript"
                ]
              ],
              "status": 200,
              "status_text": ""
            }
          },
          "base_uri": "https://localhost:8080/",
          "height": 111
        },
        "id": "zw8qvtdOV853",
        "outputId": "ce940a51-f07c-47b7-995c-a278b6320e95"
      },
      "source": [
        "files.upload()"
      ],
      "execution_count": 2,
      "outputs": [
        {
          "output_type": "display_data",
          "data": {
            "text/html": [
              "\n",
              "     <input type=\"file\" id=\"files-bf0e7dcd-1d71-4767-bf7e-321ffebffe05\" name=\"files[]\" multiple disabled\n",
              "        style=\"border:none\" />\n",
              "     <output id=\"result-bf0e7dcd-1d71-4767-bf7e-321ffebffe05\">\n",
              "      Upload widget is only available when the cell has been executed in the\n",
              "      current browser session. Please rerun this cell to enable.\n",
              "      </output>\n",
              "      <script src=\"/nbextensions/google.colab/files.js\"></script> "
            ],
            "text/plain": [
              "<IPython.core.display.HTML object>"
            ]
          },
          "metadata": {}
        },
        {
          "output_type": "stream",
          "name": "stdout",
          "text": [
            "Saving glass.csv to glass.csv\n"
          ]
        },
        {
          "output_type": "execute_result",
          "data": {
            "text/plain": [
              "{'glass.csv': b'Id number,RI_content,Na_content,Mg_content,Al_content,Si_content,K_content,Ca_content,Ba_content,Fe_content,Type of Glass\\r\\n1,1.52101,13.64,4.49,1.1,71.78,0.06,8.75,0,0,1\\r\\n2,1.51761,13.89,3.6,1.36,72.73,0.48,7.83,0,0,1\\r\\n3,1.51618,13.53,3.55,1.54,72.99,0.39,7.78,0,0,1\\r\\n4,1.51766,13.21,3.69,1.29,72.61,0.57,8.22,0,0,1\\r\\n5,1.51742,13.27,3.62,1.24,73.08,0.55,8.07,0,0,1\\r\\n6,1.51596,12.79,3.61,1.62,72.97,0.64,8.07,0,0.26,1\\r\\n7,1.51743,13.3,3.6,1.14,73.09,0.58,8.17,0,0,1\\r\\n8,1.51756,13.15,3.61,1.05,73.24,0.57,8.24,0,0,1\\r\\n9,1.51918,14.04,3.58,1.37,72.08,0.56,8.3,0,0,1\\r\\n10,1.51755,13,3.6,1.36,72.99,0.57,8.4,0,0.11,1\\r\\n11,1.51571,12.72,3.46,1.56,73.2,0.67,8.09,0,0.24,1\\r\\n12,1.51763,12.8,3.66,1.27,73.01,0.6,8.56,0,0,1\\r\\n13,1.51589,12.88,3.43,1.4,73.28,0.69,8.05,0,0.24,1\\r\\n14,1.51748,12.86,3.56,1.27,73.21,0.54,8.38,0,0.17,1\\r\\n15,1.51763,12.61,3.59,1.31,73.29,0.58,8.5,0,0,1\\r\\n16,1.51761,12.81,3.54,1.23,73.24,0.58,8.39,0,0,1\\r\\n17,1.51784,12.68,3.67,1.16,73.11,0.61,8.7,0,0,1\\r\\n18,1.52196,14.36,3.85,0.89,71.36,0.15,9.15,0,0,1\\r\\n19,1.51911,13.9,3.73,1.18,72.12,0.06,8.89,0,0,1\\r\\n20,1.51735,13.02,3.54,1.69,72.73,0.54,8.44,0,0.07,1\\r\\n21,1.5175,12.82,3.55,1.49,72.75,0.54,8.52,0,0.19,1\\r\\n22,1.51966,14.77,3.75,0.29,72.02,0.03,9,0,0,1\\r\\n23,1.51736,12.78,3.62,1.29,72.79,0.59,8.7,0,0,1\\r\\n24,1.51751,12.81,3.57,1.35,73.02,0.62,8.59,0,0,1\\r\\n25,1.5172,13.38,3.5,1.15,72.85,0.5,8.43,0,0,1\\r\\n26,1.51764,12.98,3.54,1.21,73,0.65,8.53,0,0,1\\r\\n27,1.51793,13.21,3.48,1.41,72.64,0.59,8.43,0,0,1\\r\\n28,1.51721,12.87,3.48,1.33,73.04,0.56,8.43,0,0,1\\r\\n29,1.51768,12.56,3.52,1.43,73.15,0.57,8.54,0,0,1\\r\\n30,1.51784,13.08,3.49,1.28,72.86,0.6,8.49,0,0,1\\r\\n31,1.51768,12.65,3.56,1.3,73.08,0.61,8.69,0,0.14,1\\r\\n32,1.51747,12.84,3.5,1.14,73.27,0.56,8.55,0,0,1\\r\\n33,1.51775,12.85,3.48,1.23,72.97,0.61,8.56,0.09,0.22,1\\r\\n34,1.51753,12.57,3.47,1.38,73.39,0.6,8.55,0,0.06,1\\r\\n35,1.51783,12.69,3.54,1.34,72.95,0.57,8.75,0,0,1\\r\\n36,1.51567,13.29,3.45,1.21,72.74,0.56,8.57,0,0,1\\r\\n37,1.51909,13.89,3.53,1.32,71.81,0.51,8.78,0.11,0,1\\r\\n38,1.51797,12.74,3.48,1.35,72.96,0.64,8.68,0,0,1\\r\\n39,1.52213,14.21,3.82,0.47,71.77,0.11,9.57,0,0,1\\r\\n40,1.52213,14.21,3.82,0.47,71.77,0.11,9.57,0,0,1\\r\\n41,1.51793,12.79,3.5,1.12,73.03,0.64,8.77,0,0,1\\r\\n42,1.51755,12.71,3.42,1.2,73.2,0.59,8.64,0,0,1\\r\\n43,1.51779,13.21,3.39,1.33,72.76,0.59,8.59,0,0,1\\r\\n44,1.5221,13.73,3.84,0.72,71.76,0.17,9.74,0,0,1\\r\\n45,1.51786,12.73,3.43,1.19,72.95,0.62,8.76,0,0.3,1\\r\\n46,1.519,13.49,3.48,1.35,71.95,0.55,9,0,0,1\\r\\n47,1.51869,13.19,3.37,1.18,72.72,0.57,8.83,0,0.16,1\\r\\n48,1.52667,13.99,3.7,0.71,71.57,0.02,9.82,0,0.1,1\\r\\n49,1.52223,13.21,3.77,0.79,71.99,0.13,10.02,0,0,1\\r\\n50,1.51898,13.58,3.35,1.23,72.08,0.59,8.91,0,0,1\\r\\n51,1.5232,13.72,3.72,0.51,71.75,0.09,10.06,0,0.16,1\\r\\n52,1.51926,13.2,3.33,1.28,72.36,0.6,9.14,0,0.11,1\\r\\n53,1.51808,13.43,2.87,1.19,72.84,0.55,9.03,0,0,1\\r\\n54,1.51837,13.14,2.84,1.28,72.85,0.55,9.07,0,0,1\\r\\n55,1.51778,13.21,2.81,1.29,72.98,0.51,9.02,0,0.09,1\\r\\n56,1.51769,12.45,2.71,1.29,73.7,0.56,9.06,0,0.24,1\\r\\n57,1.51215,12.99,3.47,1.12,72.98,0.62,8.35,0,0.31,1\\r\\n58,1.51824,12.87,3.48,1.29,72.95,0.6,8.43,0,0,1\\r\\n59,1.51754,13.48,3.74,1.17,72.99,0.59,8.03,0,0,1\\r\\n60,1.51754,13.39,3.66,1.19,72.79,0.57,8.27,0,0.11,1\\r\\n61,1.51905,13.6,3.62,1.11,72.64,0.14,8.76,0,0,1\\r\\n62,1.51977,13.81,3.58,1.32,71.72,0.12,8.67,0.69,0,1\\r\\n63,1.52172,13.51,3.86,0.88,71.79,0.23,9.54,0,0.11,1\\r\\n64,1.52227,14.17,3.81,0.78,71.35,0,9.69,0,0,1\\r\\n65,1.52172,13.48,3.74,0.9,72.01,0.18,9.61,0,0.07,1\\r\\n66,1.52099,13.69,3.59,1.12,71.96,0.09,9.4,0,0,1\\r\\n67,1.52152,13.05,3.65,0.87,72.22,0.19,9.85,0,0.17,1\\r\\n68,1.52152,13.05,3.65,0.87,72.32,0.19,9.85,0,0.17,1\\r\\n69,1.52152,13.12,3.58,0.9,72.2,0.23,9.82,0,0.16,1\\r\\n70,1.523,13.31,3.58,0.82,71.99,0.12,10.17,0,0.03,1\\r\\n71,1.51574,14.86,3.67,1.74,71.87,0.16,7.36,0,0.12,2\\r\\n72,1.51848,13.64,3.87,1.27,71.96,0.54,8.32,0,0.32,2\\r\\n73,1.51593,13.09,3.59,1.52,73.1,0.67,7.83,0,0,2\\r\\n74,1.51631,13.34,3.57,1.57,72.87,0.61,7.89,0,0,2\\r\\n75,1.51596,13.02,3.56,1.54,73.11,0.72,7.9,0,0,2\\r\\n76,1.5159,13.02,3.58,1.51,73.12,0.69,7.96,0,0,2\\r\\n77,1.51645,13.44,3.61,1.54,72.39,0.66,8.03,0,0,2\\r\\n78,1.51627,13,3.58,1.54,72.83,0.61,8.04,0,0,2\\r\\n79,1.51613,13.92,3.52,1.25,72.88,0.37,7.94,0,0.14,2\\r\\n80,1.5159,12.82,3.52,1.9,72.86,0.69,7.97,0,0,2\\r\\n81,1.51592,12.86,3.52,2.12,72.66,0.69,7.97,0,0,2\\r\\n82,1.51593,13.25,3.45,1.43,73.17,0.61,7.86,0,0,2\\r\\n83,1.51646,13.41,3.55,1.25,72.81,0.68,8.1,0,0,2\\r\\n84,1.51594,13.09,3.52,1.55,72.87,0.68,8.05,0,0.09,2\\r\\n85,1.51409,14.25,3.09,2.08,72.28,1.1,7.08,0,0,2\\r\\n86,1.51625,13.36,3.58,1.49,72.72,0.45,8.21,0,0,2\\r\\n87,1.51569,13.24,3.49,1.47,73.25,0.38,8.03,0,0,2\\r\\n88,1.51645,13.4,3.49,1.52,72.65,0.67,8.08,0,0.1,2\\r\\n89,1.51618,13.01,3.5,1.48,72.89,0.6,8.12,0,0,2\\r\\n90,1.5164,12.55,3.48,1.87,73.23,0.63,8.08,0,0.09,2\\r\\n91,1.51841,12.93,3.74,1.11,72.28,0.64,8.96,0,0.22,2\\r\\n92,1.51605,12.9,3.44,1.45,73.06,0.44,8.27,0,0,2\\r\\n93,1.51588,13.12,3.41,1.58,73.26,0.07,8.39,0,0.19,2\\r\\n94,1.5159,13.24,3.34,1.47,73.1,0.39,8.22,0,0,2\\r\\n95,1.51629,12.71,3.33,1.49,73.28,0.67,8.24,0,0,2\\r\\n96,1.5186,13.36,3.43,1.43,72.26,0.51,8.6,0,0,2\\r\\n97,1.51841,13.02,3.62,1.06,72.34,0.64,9.13,0,0.15,2\\r\\n98,1.51743,12.2,3.25,1.16,73.55,0.62,8.9,0,0.24,2\\r\\n99,1.51689,12.67,2.88,1.71,73.21,0.73,8.54,0,0,2\\r\\n100,1.51811,12.96,2.96,1.43,72.92,0.6,8.79,0.14,0,2\\r\\n101,1.51655,12.75,2.85,1.44,73.27,0.57,8.79,0.11,0.22,2\\r\\n102,1.5173,12.35,2.72,1.63,72.87,0.7,9.23,0,0,2\\r\\n103,1.5182,12.62,2.76,0.83,73.81,0.35,9.42,0,0.2,2\\r\\n104,1.52725,13.8,3.15,0.66,70.57,0.08,11.64,0,0,2\\r\\n105,1.5241,13.83,2.9,1.17,71.15,0.08,10.79,0,0,2\\r\\n106,1.52475,11.45,0,1.88,72.19,0.81,13.24,0,0.34,2\\r\\n107,1.53125,10.73,0,2.1,69.81,0.58,13.3,3.15,0.28,2\\r\\n108,1.53393,12.3,0,1,70.16,0.12,16.19,0,0.24,2\\r\\n109,1.52222,14.43,0,1,72.67,0.1,11.52,0,0.08,2\\r\\n110,1.51818,13.72,0,0.56,74.45,0,10.99,0,0,2\\r\\n111,1.52664,11.23,0,0.77,73.21,0,14.68,0,0,2\\r\\n112,1.52739,11.02,0,0.75,73.08,0,14.96,0,0,2\\r\\n113,1.52777,12.64,0,0.67,72.02,0.06,14.4,0,0,2\\r\\n114,1.51892,13.46,3.83,1.26,72.55,0.57,8.21,0,0.14,2\\r\\n115,1.51847,13.1,3.97,1.19,72.44,0.6,8.43,0,0,2\\r\\n116,1.51846,13.41,3.89,1.33,72.38,0.51,8.28,0,0,2\\r\\n117,1.51829,13.24,3.9,1.41,72.33,0.55,8.31,0,0.1,2\\r\\n118,1.51708,13.72,3.68,1.81,72.06,0.64,7.88,0,0,2\\r\\n119,1.51673,13.3,3.64,1.53,72.53,0.65,8.03,0,0.29,2\\r\\n120,1.51652,13.56,3.57,1.47,72.45,0.64,7.96,0,0,2\\r\\n121,1.51844,13.25,3.76,1.32,72.4,0.58,8.42,0,0,2\\r\\n122,1.51663,12.93,3.54,1.62,72.96,0.64,8.03,0,0.21,2\\r\\n123,1.51687,13.23,3.54,1.48,72.84,0.56,8.1,0,0,2\\r\\n124,1.51707,13.48,3.48,1.71,72.52,0.62,7.99,0,0,2\\r\\n125,1.52177,13.2,3.68,1.15,72.75,0.54,8.52,0,0,2\\r\\n126,1.51872,12.93,3.66,1.56,72.51,0.58,8.55,0,0.12,2\\r\\n127,1.51667,12.94,3.61,1.26,72.75,0.56,8.6,0,0,2\\r\\n128,1.52081,13.78,2.28,1.43,71.99,0.49,9.85,0,0.17,2\\r\\n129,1.52068,13.55,2.09,1.67,72.18,0.53,9.57,0.27,0.17,2\\r\\n130,1.5202,13.98,1.35,1.63,71.76,0.39,10.56,0,0.18,2\\r\\n131,1.52177,13.75,1.01,1.36,72.19,0.33,11.14,0,0,2\\r\\n132,1.52614,13.7,0,1.36,71.24,0.19,13.44,0,0.1,2\\r\\n133,1.51813,13.43,3.98,1.18,72.49,0.58,8.15,0,0,2\\r\\n134,1.518,13.71,3.93,1.54,71.81,0.54,8.21,0,0.15,2\\r\\n135,1.51811,13.33,3.85,1.25,72.78,0.52,8.12,0,0,2\\r\\n136,1.51789,13.19,3.9,1.3,72.33,0.55,8.44,0,0.28,2\\r\\n137,1.51806,13,3.8,1.08,73.07,0.56,8.38,0,0.12,2\\r\\n138,1.51711,12.89,3.62,1.57,72.96,0.61,8.11,0,0,2\\r\\n139,1.51674,12.79,3.52,1.54,73.36,0.66,7.9,0,0,2\\r\\n140,1.51674,12.87,3.56,1.64,73.14,0.65,7.99,0,0,2\\r\\n141,1.5169,13.33,3.54,1.61,72.54,0.68,8.11,0,0,2\\r\\n142,1.51851,13.2,3.63,1.07,72.83,0.57,8.41,0.09,0.17,2\\r\\n143,1.51662,12.85,3.51,1.44,73.01,0.68,8.23,0.06,0.25,2\\r\\n144,1.51709,13,3.47,1.79,72.72,0.66,8.18,0,0,2\\r\\n145,1.5166,12.99,3.18,1.23,72.97,0.58,8.81,0,0.24,2\\r\\n146,1.51839,12.85,3.67,1.24,72.57,0.62,8.68,0,0.35,2\\r\\n147,1.51769,13.65,3.66,1.11,72.77,0.11,8.6,0,0,3\\r\\n148,1.5161,13.33,3.53,1.34,72.67,0.56,8.33,0,0,3\\r\\n149,1.5167,13.24,3.57,1.38,72.7,0.56,8.44,0,0.1,3\\r\\n150,1.51643,12.16,3.52,1.35,72.89,0.57,8.53,0,0,3\\r\\n151,1.51665,13.14,3.45,1.76,72.48,0.6,8.38,0,0.17,3\\r\\n152,1.52127,14.32,3.9,0.83,71.5,0,9.49,0,0,3\\r\\n153,1.51779,13.64,3.65,0.65,73,0.06,8.93,0,0,3\\r\\n154,1.5161,13.42,3.4,1.22,72.69,0.59,8.32,0,0,3\\r\\n155,1.51694,12.86,3.58,1.31,72.61,0.61,8.79,0,0,3\\r\\n156,1.51646,13.04,3.4,1.26,73.01,0.52,8.58,0,0,3\\r\\n157,1.51655,13.41,3.39,1.28,72.64,0.52,8.65,0,0,3\\r\\n158,1.52121,14.03,3.76,0.58,71.79,0.11,9.65,0,0,3\\r\\n159,1.51776,13.53,3.41,1.52,72.04,0.58,8.79,0,0,3\\r\\n160,1.51796,13.5,3.36,1.63,71.94,0.57,8.81,0,0.09,3\\r\\n161,1.51832,13.33,3.34,1.54,72.14,0.56,8.99,0,0,3\\r\\n162,1.51934,13.64,3.54,0.75,72.65,0.16,8.89,0.15,0.24,3\\r\\n163,1.52211,14.19,3.78,0.91,71.36,0.23,9.14,0,0.37,3\\r\\n164,1.51514,14.01,2.68,3.5,69.89,1.68,5.87,2.2,0,5\\r\\n165,1.51915,12.73,1.85,1.86,72.69,0.6,10.09,0,0,5\\r\\n166,1.52171,11.56,1.88,1.56,72.86,0.47,11.41,0,0,5\\r\\n167,1.52151,11.03,1.71,1.56,73.44,0.58,11.62,0,0,5\\r\\n168,1.51969,12.64,0,1.65,73.75,0.38,11.53,0,0,5\\r\\n169,1.51666,12.86,0,1.83,73.88,0.97,10.17,0,0,5\\r\\n170,1.51994,13.27,0,1.76,73.03,0.47,11.32,0,0,5\\r\\n171,1.52369,13.44,0,1.58,72.22,0.32,12.24,0,0,5\\r\\n172,1.51316,13.02,0,3.04,70.48,6.21,6.96,0,0,5\\r\\n173,1.51321,13,0,3.02,70.7,6.21,6.93,0,0,5\\r\\n174,1.52043,13.38,0,1.4,72.25,0.33,12.5,0,0,5\\r\\n175,1.52058,12.85,1.61,2.17,72.18,0.76,9.7,0.24,0.51,5\\r\\n176,1.52119,12.97,0.33,1.51,73.39,0.13,11.27,0,0.28,5\\r\\n177,1.51905,14,2.39,1.56,72.37,0,9.57,0,0,6\\r\\n178,1.51937,13.79,2.41,1.19,72.76,0,9.77,0,0,6\\r\\n179,1.51829,14.46,2.24,1.62,72.38,0,9.26,0,0,6\\r\\n180,1.51852,14.09,2.19,1.66,72.67,0,9.32,0,0,6\\r\\n181,1.51299,14.4,1.74,1.54,74.55,0,7.59,0,0,6\\r\\n182,1.51888,14.99,0.78,1.74,72.5,0,9.95,0,0,6\\r\\n183,1.51916,14.15,0,2.09,72.74,0,10.88,0,0,6\\r\\n184,1.51969,14.56,0,0.56,73.48,0,11.22,0,0,6\\r\\n185,1.51115,17.38,0,0.34,75.41,0,6.65,0,0,6\\r\\n186,1.51131,13.69,3.2,1.81,72.81,1.76,5.43,1.19,0,7\\r\\n187,1.51838,14.32,3.26,2.22,71.25,1.46,5.79,1.63,0,7\\r\\n188,1.52315,13.44,3.34,1.23,72.38,0.6,8.83,0,0,7\\r\\n189,1.52247,14.86,2.2,2.06,70.26,0.76,9.76,0,0,7\\r\\n190,1.52365,15.79,1.83,1.31,70.43,0.31,8.61,1.68,0,7\\r\\n191,1.51613,13.88,1.78,1.79,73.1,0,8.67,0.76,0,7\\r\\n192,1.51602,14.85,0,2.38,73.28,0,8.76,0.64,0.09,7\\r\\n193,1.51623,14.2,0,2.79,73.46,0.04,9.04,0.4,0.09,7\\r\\n194,1.51719,14.75,0,2,73.02,0,8.53,1.59,0.08,7\\r\\n195,1.51683,14.56,0,1.98,73.29,0,8.52,1.57,0.07,7\\r\\n196,1.51545,14.14,0,2.68,73.39,0.08,9.07,0.61,0.05,7\\r\\n197,1.51556,13.87,0,2.54,73.23,0.14,9.41,0.81,0.01,7\\r\\n198,1.51727,14.7,0,2.34,73.28,0,8.95,0.66,0,7\\r\\n199,1.51531,14.38,0,2.66,73.1,0.04,9.08,0.64,0,7\\r\\n200,1.51609,15.01,0,2.51,73.05,0.05,8.83,0.53,0,7\\r\\n201,1.51508,15.15,0,2.25,73.5,0,8.34,0.63,0,7\\r\\n202,1.51653,11.95,0,1.19,75.18,2.7,8.93,0,0,7\\r\\n203,1.51514,14.85,0,2.42,73.72,0,8.39,0.56,0,7\\r\\n204,1.51658,14.8,0,1.99,73.11,0,8.28,1.71,0,7\\r\\n205,1.51617,14.95,0,2.27,73.3,0,8.71,0.67,0,7\\r\\n206,1.51732,14.95,0,1.8,72.99,0,8.61,1.55,0,7\\r\\n207,1.51645,14.94,0,1.87,73.11,0,8.67,1.38,0,7\\r\\n208,1.51831,14.39,0,1.82,72.86,1.41,6.47,2.88,0,7\\r\\n209,1.5164,14.37,0,2.74,72.85,0,9.45,0.54,0,7\\r\\n210,1.51623,14.14,0,2.88,72.61,0.08,9.18,1.06,0,7\\r\\n211,1.51685,14.92,0,1.99,73.06,0,8.4,1.59,0,7\\r\\n212,1.52065,14.36,0,2.02,73.42,0,8.44,1.64,0,7\\r\\n213,1.51651,14.38,0,1.94,73.61,0,8.48,1.57,0,7\\r\\n214,1.51711,14.23,0,2.08,73.36,0,8.62,1.67,0,7\\r\\n'}"
            ]
          },
          "metadata": {},
          "execution_count": 2
        }
      ]
    },
    {
      "cell_type": "code",
      "metadata": {
        "colab": {
          "base_uri": "https://localhost:8080/",
          "height": 423
        },
        "id": "XIOupUq5WIfs",
        "outputId": "2f6e4639-6b85-4f07-9deb-432ce2997b90"
      },
      "source": [
        "df=pd.read_csv(\"glass.csv\")\n",
        "df"
      ],
      "execution_count": 3,
      "outputs": [
        {
          "output_type": "execute_result",
          "data": {
            "text/html": [
              "<div>\n",
              "<style scoped>\n",
              "    .dataframe tbody tr th:only-of-type {\n",
              "        vertical-align: middle;\n",
              "    }\n",
              "\n",
              "    .dataframe tbody tr th {\n",
              "        vertical-align: top;\n",
              "    }\n",
              "\n",
              "    .dataframe thead th {\n",
              "        text-align: right;\n",
              "    }\n",
              "</style>\n",
              "<table border=\"1\" class=\"dataframe\">\n",
              "  <thead>\n",
              "    <tr style=\"text-align: right;\">\n",
              "      <th></th>\n",
              "      <th>Id number</th>\n",
              "      <th>RI_content</th>\n",
              "      <th>Na_content</th>\n",
              "      <th>Mg_content</th>\n",
              "      <th>Al_content</th>\n",
              "      <th>Si_content</th>\n",
              "      <th>K_content</th>\n",
              "      <th>Ca_content</th>\n",
              "      <th>Ba_content</th>\n",
              "      <th>Fe_content</th>\n",
              "      <th>Type of Glass</th>\n",
              "    </tr>\n",
              "  </thead>\n",
              "  <tbody>\n",
              "    <tr>\n",
              "      <th>0</th>\n",
              "      <td>1</td>\n",
              "      <td>1.52101</td>\n",
              "      <td>13.64</td>\n",
              "      <td>4.49</td>\n",
              "      <td>1.10</td>\n",
              "      <td>71.78</td>\n",
              "      <td>0.06</td>\n",
              "      <td>8.75</td>\n",
              "      <td>0.00</td>\n",
              "      <td>0.0</td>\n",
              "      <td>1</td>\n",
              "    </tr>\n",
              "    <tr>\n",
              "      <th>1</th>\n",
              "      <td>2</td>\n",
              "      <td>1.51761</td>\n",
              "      <td>13.89</td>\n",
              "      <td>3.60</td>\n",
              "      <td>1.36</td>\n",
              "      <td>72.73</td>\n",
              "      <td>0.48</td>\n",
              "      <td>7.83</td>\n",
              "      <td>0.00</td>\n",
              "      <td>0.0</td>\n",
              "      <td>1</td>\n",
              "    </tr>\n",
              "    <tr>\n",
              "      <th>2</th>\n",
              "      <td>3</td>\n",
              "      <td>1.51618</td>\n",
              "      <td>13.53</td>\n",
              "      <td>3.55</td>\n",
              "      <td>1.54</td>\n",
              "      <td>72.99</td>\n",
              "      <td>0.39</td>\n",
              "      <td>7.78</td>\n",
              "      <td>0.00</td>\n",
              "      <td>0.0</td>\n",
              "      <td>1</td>\n",
              "    </tr>\n",
              "    <tr>\n",
              "      <th>3</th>\n",
              "      <td>4</td>\n",
              "      <td>1.51766</td>\n",
              "      <td>13.21</td>\n",
              "      <td>3.69</td>\n",
              "      <td>1.29</td>\n",
              "      <td>72.61</td>\n",
              "      <td>0.57</td>\n",
              "      <td>8.22</td>\n",
              "      <td>0.00</td>\n",
              "      <td>0.0</td>\n",
              "      <td>1</td>\n",
              "    </tr>\n",
              "    <tr>\n",
              "      <th>4</th>\n",
              "      <td>5</td>\n",
              "      <td>1.51742</td>\n",
              "      <td>13.27</td>\n",
              "      <td>3.62</td>\n",
              "      <td>1.24</td>\n",
              "      <td>73.08</td>\n",
              "      <td>0.55</td>\n",
              "      <td>8.07</td>\n",
              "      <td>0.00</td>\n",
              "      <td>0.0</td>\n",
              "      <td>1</td>\n",
              "    </tr>\n",
              "    <tr>\n",
              "      <th>...</th>\n",
              "      <td>...</td>\n",
              "      <td>...</td>\n",
              "      <td>...</td>\n",
              "      <td>...</td>\n",
              "      <td>...</td>\n",
              "      <td>...</td>\n",
              "      <td>...</td>\n",
              "      <td>...</td>\n",
              "      <td>...</td>\n",
              "      <td>...</td>\n",
              "      <td>...</td>\n",
              "    </tr>\n",
              "    <tr>\n",
              "      <th>209</th>\n",
              "      <td>210</td>\n",
              "      <td>1.51623</td>\n",
              "      <td>14.14</td>\n",
              "      <td>0.00</td>\n",
              "      <td>2.88</td>\n",
              "      <td>72.61</td>\n",
              "      <td>0.08</td>\n",
              "      <td>9.18</td>\n",
              "      <td>1.06</td>\n",
              "      <td>0.0</td>\n",
              "      <td>7</td>\n",
              "    </tr>\n",
              "    <tr>\n",
              "      <th>210</th>\n",
              "      <td>211</td>\n",
              "      <td>1.51685</td>\n",
              "      <td>14.92</td>\n",
              "      <td>0.00</td>\n",
              "      <td>1.99</td>\n",
              "      <td>73.06</td>\n",
              "      <td>0.00</td>\n",
              "      <td>8.40</td>\n",
              "      <td>1.59</td>\n",
              "      <td>0.0</td>\n",
              "      <td>7</td>\n",
              "    </tr>\n",
              "    <tr>\n",
              "      <th>211</th>\n",
              "      <td>212</td>\n",
              "      <td>1.52065</td>\n",
              "      <td>14.36</td>\n",
              "      <td>0.00</td>\n",
              "      <td>2.02</td>\n",
              "      <td>73.42</td>\n",
              "      <td>0.00</td>\n",
              "      <td>8.44</td>\n",
              "      <td>1.64</td>\n",
              "      <td>0.0</td>\n",
              "      <td>7</td>\n",
              "    </tr>\n",
              "    <tr>\n",
              "      <th>212</th>\n",
              "      <td>213</td>\n",
              "      <td>1.51651</td>\n",
              "      <td>14.38</td>\n",
              "      <td>0.00</td>\n",
              "      <td>1.94</td>\n",
              "      <td>73.61</td>\n",
              "      <td>0.00</td>\n",
              "      <td>8.48</td>\n",
              "      <td>1.57</td>\n",
              "      <td>0.0</td>\n",
              "      <td>7</td>\n",
              "    </tr>\n",
              "    <tr>\n",
              "      <th>213</th>\n",
              "      <td>214</td>\n",
              "      <td>1.51711</td>\n",
              "      <td>14.23</td>\n",
              "      <td>0.00</td>\n",
              "      <td>2.08</td>\n",
              "      <td>73.36</td>\n",
              "      <td>0.00</td>\n",
              "      <td>8.62</td>\n",
              "      <td>1.67</td>\n",
              "      <td>0.0</td>\n",
              "      <td>7</td>\n",
              "    </tr>\n",
              "  </tbody>\n",
              "</table>\n",
              "<p>214 rows × 11 columns</p>\n",
              "</div>"
            ],
            "text/plain": [
              "     Id number  RI_content  Na_content  ...  Ba_content  Fe_content  Type of Glass\n",
              "0            1     1.52101       13.64  ...        0.00         0.0              1\n",
              "1            2     1.51761       13.89  ...        0.00         0.0              1\n",
              "2            3     1.51618       13.53  ...        0.00         0.0              1\n",
              "3            4     1.51766       13.21  ...        0.00         0.0              1\n",
              "4            5     1.51742       13.27  ...        0.00         0.0              1\n",
              "..         ...         ...         ...  ...         ...         ...            ...\n",
              "209        210     1.51623       14.14  ...        1.06         0.0              7\n",
              "210        211     1.51685       14.92  ...        1.59         0.0              7\n",
              "211        212     1.52065       14.36  ...        1.64         0.0              7\n",
              "212        213     1.51651       14.38  ...        1.57         0.0              7\n",
              "213        214     1.51711       14.23  ...        1.67         0.0              7\n",
              "\n",
              "[214 rows x 11 columns]"
            ]
          },
          "metadata": {},
          "execution_count": 3
        }
      ]
    },
    {
      "cell_type": "code",
      "metadata": {
        "id": "IrNo3nCFYIUa"
      },
      "source": [
        "warnings.filterwarnings('ignore')\n",
        "#Warnings are provided to warn the developer of situations that aren’t necessarily exceptions."
      ],
      "execution_count": 4,
      "outputs": []
    },
    {
      "cell_type": "markdown",
      "metadata": {
        "id": "dVnBgu4dYyod"
      },
      "source": [
        "# ***Exploratory data analysis***"
      ]
    },
    {
      "cell_type": "code",
      "metadata": {
        "id": "WHScA_xPWbW5",
        "colab": {
          "base_uri": "https://localhost:8080/"
        },
        "outputId": "313bd4b0-7d63-45cb-8ae9-d5846371b4e8"
      },
      "source": [
        "df.shape"
      ],
      "execution_count": 5,
      "outputs": [
        {
          "output_type": "execute_result",
          "data": {
            "text/plain": [
              "(214, 11)"
            ]
          },
          "metadata": {},
          "execution_count": 5
        }
      ]
    },
    {
      "cell_type": "code",
      "metadata": {
        "id": "gghxRZwOX-aV",
        "colab": {
          "base_uri": "https://localhost:8080/",
          "height": 206
        },
        "outputId": "9f20e3f8-4c3f-4206-8172-f792a1b597b9"
      },
      "source": [
        "df.head()"
      ],
      "execution_count": 6,
      "outputs": [
        {
          "output_type": "execute_result",
          "data": {
            "text/html": [
              "<div>\n",
              "<style scoped>\n",
              "    .dataframe tbody tr th:only-of-type {\n",
              "        vertical-align: middle;\n",
              "    }\n",
              "\n",
              "    .dataframe tbody tr th {\n",
              "        vertical-align: top;\n",
              "    }\n",
              "\n",
              "    .dataframe thead th {\n",
              "        text-align: right;\n",
              "    }\n",
              "</style>\n",
              "<table border=\"1\" class=\"dataframe\">\n",
              "  <thead>\n",
              "    <tr style=\"text-align: right;\">\n",
              "      <th></th>\n",
              "      <th>Id number</th>\n",
              "      <th>RI_content</th>\n",
              "      <th>Na_content</th>\n",
              "      <th>Mg_content</th>\n",
              "      <th>Al_content</th>\n",
              "      <th>Si_content</th>\n",
              "      <th>K_content</th>\n",
              "      <th>Ca_content</th>\n",
              "      <th>Ba_content</th>\n",
              "      <th>Fe_content</th>\n",
              "      <th>Type of Glass</th>\n",
              "    </tr>\n",
              "  </thead>\n",
              "  <tbody>\n",
              "    <tr>\n",
              "      <th>0</th>\n",
              "      <td>1</td>\n",
              "      <td>1.52101</td>\n",
              "      <td>13.64</td>\n",
              "      <td>4.49</td>\n",
              "      <td>1.10</td>\n",
              "      <td>71.78</td>\n",
              "      <td>0.06</td>\n",
              "      <td>8.75</td>\n",
              "      <td>0.0</td>\n",
              "      <td>0.0</td>\n",
              "      <td>1</td>\n",
              "    </tr>\n",
              "    <tr>\n",
              "      <th>1</th>\n",
              "      <td>2</td>\n",
              "      <td>1.51761</td>\n",
              "      <td>13.89</td>\n",
              "      <td>3.60</td>\n",
              "      <td>1.36</td>\n",
              "      <td>72.73</td>\n",
              "      <td>0.48</td>\n",
              "      <td>7.83</td>\n",
              "      <td>0.0</td>\n",
              "      <td>0.0</td>\n",
              "      <td>1</td>\n",
              "    </tr>\n",
              "    <tr>\n",
              "      <th>2</th>\n",
              "      <td>3</td>\n",
              "      <td>1.51618</td>\n",
              "      <td>13.53</td>\n",
              "      <td>3.55</td>\n",
              "      <td>1.54</td>\n",
              "      <td>72.99</td>\n",
              "      <td>0.39</td>\n",
              "      <td>7.78</td>\n",
              "      <td>0.0</td>\n",
              "      <td>0.0</td>\n",
              "      <td>1</td>\n",
              "    </tr>\n",
              "    <tr>\n",
              "      <th>3</th>\n",
              "      <td>4</td>\n",
              "      <td>1.51766</td>\n",
              "      <td>13.21</td>\n",
              "      <td>3.69</td>\n",
              "      <td>1.29</td>\n",
              "      <td>72.61</td>\n",
              "      <td>0.57</td>\n",
              "      <td>8.22</td>\n",
              "      <td>0.0</td>\n",
              "      <td>0.0</td>\n",
              "      <td>1</td>\n",
              "    </tr>\n",
              "    <tr>\n",
              "      <th>4</th>\n",
              "      <td>5</td>\n",
              "      <td>1.51742</td>\n",
              "      <td>13.27</td>\n",
              "      <td>3.62</td>\n",
              "      <td>1.24</td>\n",
              "      <td>73.08</td>\n",
              "      <td>0.55</td>\n",
              "      <td>8.07</td>\n",
              "      <td>0.0</td>\n",
              "      <td>0.0</td>\n",
              "      <td>1</td>\n",
              "    </tr>\n",
              "  </tbody>\n",
              "</table>\n",
              "</div>"
            ],
            "text/plain": [
              "   Id number  RI_content  Na_content  ...  Ba_content  Fe_content  Type of Glass\n",
              "0          1     1.52101       13.64  ...         0.0         0.0              1\n",
              "1          2     1.51761       13.89  ...         0.0         0.0              1\n",
              "2          3     1.51618       13.53  ...         0.0         0.0              1\n",
              "3          4     1.51766       13.21  ...         0.0         0.0              1\n",
              "4          5     1.51742       13.27  ...         0.0         0.0              1\n",
              "\n",
              "[5 rows x 11 columns]"
            ]
          },
          "metadata": {},
          "execution_count": 6
        }
      ]
    },
    {
      "cell_type": "markdown",
      "metadata": {
        "id": "EL7Tsl0OZKW8"
      },
      "source": [
        "*Drop redundant columns*"
      ]
    },
    {
      "cell_type": "code",
      "metadata": {
        "id": "qPL6MjmtZGIS"
      },
      "source": [
        "df.drop('Id number', axis=1, inplace=True)"
      ],
      "execution_count": 7,
      "outputs": []
    },
    {
      "cell_type": "markdown",
      "metadata": {
        "id": "u_qlSga1ZXIl"
      },
      "source": [
        "*View summary of dataset*"
      ]
    },
    {
      "cell_type": "code",
      "metadata": {
        "colab": {
          "base_uri": "https://localhost:8080/"
        },
        "id": "RNVjXVGDZTGt",
        "outputId": "1857ee87-1c23-4511-f48a-e02454385fa1"
      },
      "source": [
        "df.info()"
      ],
      "execution_count": 8,
      "outputs": [
        {
          "output_type": "stream",
          "name": "stdout",
          "text": [
            "<class 'pandas.core.frame.DataFrame'>\n",
            "RangeIndex: 214 entries, 0 to 213\n",
            "Data columns (total 10 columns):\n",
            " #   Column         Non-Null Count  Dtype  \n",
            "---  ------         --------------  -----  \n",
            " 0   RI_content     214 non-null    float64\n",
            " 1   Na_content     214 non-null    float64\n",
            " 2   Mg_content     214 non-null    float64\n",
            " 3   Al_content     214 non-null    float64\n",
            " 4   Si_content     214 non-null    float64\n",
            " 5   K_content      214 non-null    float64\n",
            " 6   Ca_content     214 non-null    float64\n",
            " 7   Ba_content     214 non-null    float64\n",
            " 8   Fe_content     214 non-null    float64\n",
            " 9   Type of Glass  214 non-null    int64  \n",
            "dtypes: float64(9), int64(1)\n",
            "memory usage: 16.8 KB\n"
          ]
        }
      ]
    },
    {
      "cell_type": "markdown",
      "metadata": {
        "id": "YwiHvoT6ZrpU"
      },
      "source": [
        "We can notice there are no null values present in the dataset and also need not do any Data Transformation"
      ]
    },
    {
      "cell_type": "code",
      "metadata": {
        "colab": {
          "base_uri": "https://localhost:8080/"
        },
        "id": "dBHJhJvIZbIA",
        "outputId": "04841c43-3943-4e79-f797-7a54a7a04d7f"
      },
      "source": [
        "#confirmation for null values\n",
        "df.isna().sum()"
      ],
      "execution_count": 9,
      "outputs": [
        {
          "output_type": "execute_result",
          "data": {
            "text/plain": [
              "RI_content       0\n",
              "Na_content       0\n",
              "Mg_content       0\n",
              "Al_content       0\n",
              "Si_content       0\n",
              "K_content        0\n",
              "Ca_content       0\n",
              "Ba_content       0\n",
              "Fe_content       0\n",
              "Type of Glass    0\n",
              "dtype: int64"
            ]
          },
          "metadata": {},
          "execution_count": 9
        }
      ]
    },
    {
      "cell_type": "code",
      "metadata": {
        "colab": {
          "base_uri": "https://localhost:8080/",
          "height": 300
        },
        "id": "DpaxanBcaBUo",
        "outputId": "a707fe80-5c3b-4664-c342-5ebff67a3c87"
      },
      "source": [
        "df.describe()"
      ],
      "execution_count": 10,
      "outputs": [
        {
          "output_type": "execute_result",
          "data": {
            "text/html": [
              "<div>\n",
              "<style scoped>\n",
              "    .dataframe tbody tr th:only-of-type {\n",
              "        vertical-align: middle;\n",
              "    }\n",
              "\n",
              "    .dataframe tbody tr th {\n",
              "        vertical-align: top;\n",
              "    }\n",
              "\n",
              "    .dataframe thead th {\n",
              "        text-align: right;\n",
              "    }\n",
              "</style>\n",
              "<table border=\"1\" class=\"dataframe\">\n",
              "  <thead>\n",
              "    <tr style=\"text-align: right;\">\n",
              "      <th></th>\n",
              "      <th>RI_content</th>\n",
              "      <th>Na_content</th>\n",
              "      <th>Mg_content</th>\n",
              "      <th>Al_content</th>\n",
              "      <th>Si_content</th>\n",
              "      <th>K_content</th>\n",
              "      <th>Ca_content</th>\n",
              "      <th>Ba_content</th>\n",
              "      <th>Fe_content</th>\n",
              "      <th>Type of Glass</th>\n",
              "    </tr>\n",
              "  </thead>\n",
              "  <tbody>\n",
              "    <tr>\n",
              "      <th>count</th>\n",
              "      <td>214.000000</td>\n",
              "      <td>214.000000</td>\n",
              "      <td>214.000000</td>\n",
              "      <td>214.000000</td>\n",
              "      <td>214.000000</td>\n",
              "      <td>214.000000</td>\n",
              "      <td>214.000000</td>\n",
              "      <td>214.000000</td>\n",
              "      <td>214.000000</td>\n",
              "      <td>214.000000</td>\n",
              "    </tr>\n",
              "    <tr>\n",
              "      <th>mean</th>\n",
              "      <td>1.518365</td>\n",
              "      <td>13.407850</td>\n",
              "      <td>2.684533</td>\n",
              "      <td>1.444907</td>\n",
              "      <td>72.650935</td>\n",
              "      <td>0.497056</td>\n",
              "      <td>8.956963</td>\n",
              "      <td>0.175047</td>\n",
              "      <td>0.057009</td>\n",
              "      <td>2.780374</td>\n",
              "    </tr>\n",
              "    <tr>\n",
              "      <th>std</th>\n",
              "      <td>0.003037</td>\n",
              "      <td>0.816604</td>\n",
              "      <td>1.442408</td>\n",
              "      <td>0.499270</td>\n",
              "      <td>0.774546</td>\n",
              "      <td>0.652192</td>\n",
              "      <td>1.423153</td>\n",
              "      <td>0.497219</td>\n",
              "      <td>0.097439</td>\n",
              "      <td>2.103739</td>\n",
              "    </tr>\n",
              "    <tr>\n",
              "      <th>min</th>\n",
              "      <td>1.511150</td>\n",
              "      <td>10.730000</td>\n",
              "      <td>0.000000</td>\n",
              "      <td>0.290000</td>\n",
              "      <td>69.810000</td>\n",
              "      <td>0.000000</td>\n",
              "      <td>5.430000</td>\n",
              "      <td>0.000000</td>\n",
              "      <td>0.000000</td>\n",
              "      <td>1.000000</td>\n",
              "    </tr>\n",
              "    <tr>\n",
              "      <th>25%</th>\n",
              "      <td>1.516523</td>\n",
              "      <td>12.907500</td>\n",
              "      <td>2.115000</td>\n",
              "      <td>1.190000</td>\n",
              "      <td>72.280000</td>\n",
              "      <td>0.122500</td>\n",
              "      <td>8.240000</td>\n",
              "      <td>0.000000</td>\n",
              "      <td>0.000000</td>\n",
              "      <td>1.000000</td>\n",
              "    </tr>\n",
              "    <tr>\n",
              "      <th>50%</th>\n",
              "      <td>1.517680</td>\n",
              "      <td>13.300000</td>\n",
              "      <td>3.480000</td>\n",
              "      <td>1.360000</td>\n",
              "      <td>72.790000</td>\n",
              "      <td>0.555000</td>\n",
              "      <td>8.600000</td>\n",
              "      <td>0.000000</td>\n",
              "      <td>0.000000</td>\n",
              "      <td>2.000000</td>\n",
              "    </tr>\n",
              "    <tr>\n",
              "      <th>75%</th>\n",
              "      <td>1.519157</td>\n",
              "      <td>13.825000</td>\n",
              "      <td>3.600000</td>\n",
              "      <td>1.630000</td>\n",
              "      <td>73.087500</td>\n",
              "      <td>0.610000</td>\n",
              "      <td>9.172500</td>\n",
              "      <td>0.000000</td>\n",
              "      <td>0.100000</td>\n",
              "      <td>3.000000</td>\n",
              "    </tr>\n",
              "    <tr>\n",
              "      <th>max</th>\n",
              "      <td>1.533930</td>\n",
              "      <td>17.380000</td>\n",
              "      <td>4.490000</td>\n",
              "      <td>3.500000</td>\n",
              "      <td>75.410000</td>\n",
              "      <td>6.210000</td>\n",
              "      <td>16.190000</td>\n",
              "      <td>3.150000</td>\n",
              "      <td>0.510000</td>\n",
              "      <td>7.000000</td>\n",
              "    </tr>\n",
              "  </tbody>\n",
              "</table>\n",
              "</div>"
            ],
            "text/plain": [
              "       RI_content  Na_content  ...  Fe_content  Type of Glass\n",
              "count  214.000000  214.000000  ...  214.000000     214.000000\n",
              "mean     1.518365   13.407850  ...    0.057009       2.780374\n",
              "std      0.003037    0.816604  ...    0.097439       2.103739\n",
              "min      1.511150   10.730000  ...    0.000000       1.000000\n",
              "25%      1.516523   12.907500  ...    0.000000       1.000000\n",
              "50%      1.517680   13.300000  ...    0.000000       2.000000\n",
              "75%      1.519157   13.825000  ...    0.100000       3.000000\n",
              "max      1.533930   17.380000  ...    0.510000       7.000000\n",
              "\n",
              "[8 rows x 10 columns]"
            ]
          },
          "metadata": {},
          "execution_count": 10
        }
      ]
    },
    {
      "cell_type": "code",
      "metadata": {
        "id": "iw3p5iBZaOBP"
      },
      "source": [
        ""
      ],
      "execution_count": null,
      "outputs": []
    }
  ]
}