{
  "nbformat": 4,
  "nbformat_minor": 0,
  "metadata": {
    "colab": {
      "name": "Random_Forest_Assignment16.ipynb",
      "provenance": [],
      "collapsed_sections": [],
      "include_colab_link": true
    },
    "kernelspec": {
      "name": "python3",
      "display_name": "Python 3"
    },
    "language_info": {
      "name": "python"
    }
  },
  "cells": [
    {
      "cell_type": "markdown",
      "metadata": {
        "id": "view-in-github",
        "colab_type": "text"
      },
      "source": [
        "<a href=\"https://colab.research.google.com/github/naveen2139/GUVI-DATA_SCIENCE_B9/blob/main/Random_Forest_Assignment16.ipynb\" target=\"_parent\"><img src=\"https://colab.research.google.com/assets/colab-badge.svg\" alt=\"Open In Colab\"/></a>"
      ]
    },
    {
      "cell_type": "code",
      "metadata": {
        "id": "eqp7Q6rWnX20"
      },
      "source": [
        "#Social_Network_Ads.csv"
      ],
      "execution_count": null,
      "outputs": []
    },
    {
      "cell_type": "markdown",
      "metadata": {
        "id": "1jSlqZcZnmrD"
      },
      "source": [
        "**Importing the libraries**"
      ]
    },
    {
      "cell_type": "code",
      "metadata": {
        "id": "ACJTKMfInp-E"
      },
      "source": [
        "import pandas as pd\n",
        "import numpy as np\n",
        "import matplotlib.pyplot as plt\n",
        "from google.colab import files\n",
        "import seaborn as sns\n",
        "import warnings\n",
        "from sklearn import preprocessing\n",
        "%matplotlib inline"
      ],
      "execution_count": 33,
      "outputs": []
    },
    {
      "cell_type": "markdown",
      "metadata": {
        "id": "fRZkaj-dnxIj"
      },
      "source": [
        "**Importing the dataset**"
      ]
    },
    {
      "cell_type": "code",
      "metadata": {
        "id": "SfTR4mVDnqBV",
        "colab": {
          "resources": {
            "http://localhost:8080/nbextensions/google.colab/files.js": {
              "data": "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",
              "ok": true,
              "headers": [
                [
                  "content-type",
                  "application/javascript"
                ]
              ],
              "status": 200,
              "status_text": ""
            }
          },
          "base_uri": "https://localhost:8080/",
          "height": 111
        },
        "outputId": "89efc02d-6f1f-4868-9e09-0955b61d6d6f"
      },
      "source": [
        "files.upload()"
      ],
      "execution_count": 2,
      "outputs": [
        {
          "output_type": "display_data",
          "data": {
            "text/html": [
              "\n",
              "     <input type=\"file\" id=\"files-86d5b683-510f-4fa5-b823-79a8106f081b\" name=\"files[]\" multiple disabled\n",
              "        style=\"border:none\" />\n",
              "     <output id=\"result-86d5b683-510f-4fa5-b823-79a8106f081b\">\n",
              "      Upload widget is only available when the cell has been executed in the\n",
              "      current browser session. Please rerun this cell to enable.\n",
              "      </output>\n",
              "      <script src=\"/nbextensions/google.colab/files.js\"></script> "
            ],
            "text/plain": [
              "<IPython.core.display.HTML object>"
            ]
          },
          "metadata": {}
        },
        {
          "output_type": "stream",
          "name": "stdout",
          "text": [
            "Saving Social_Network_Ads.csv to Social_Network_Ads.csv\n"
          ]
        },
        {
          "output_type": "execute_result",
          "data": {
            "text/plain": [
              "{'Social_Network_Ads.csv': b'User ID,Gender,Age,EstimatedSalary,Purchased\\r\\n15624510,Male,19,19000,0\\r\\n15810944,Male,35,20000,0\\r\\n15668575,Female,26,43000,0\\r\\n15603246,Female,27,57000,0\\r\\n15804002,Male,19,76000,0\\r\\n15728773,Male,27,58000,0\\r\\n15598044,Female,27,84000,0\\r\\n15694829,Female,32,150000,1\\r\\n15600575,Male,25,33000,0\\r\\n15727311,Female,35,65000,0\\r\\n15570769,Female,26,80000,0\\r\\n15606274,Female,26,52000,0\\r\\n15746139,Male,20,86000,0\\r\\n15704987,Male,32,18000,0\\r\\n15628972,Male,18,82000,0\\r\\n15697686,Male,29,80000,0\\r\\n15733883,Male,47,25000,1\\r\\n15617482,Male,45,26000,1\\r\\n15704583,Male,46,28000,1\\r\\n15621083,Female,48,29000,1\\r\\n15649487,Male,45,22000,1\\r\\n15736760,Female,47,49000,1\\r\\n15714658,Male,48,41000,1\\r\\n15599081,Female,45,22000,1\\r\\n15705113,Male,46,23000,1\\r\\n15631159,Male,47,20000,1\\r\\n15792818,Male,49,28000,1\\r\\n15633531,Female,47,30000,1\\r\\n15744529,Male,29,43000,0\\r\\n15669656,Male,31,18000,0\\r\\n15581198,Male,31,74000,0\\r\\n15729054,Female,27,137000,1\\r\\n15573452,Female,21,16000,0\\r\\n15776733,Female,28,44000,0\\r\\n15724858,Male,27,90000,0\\r\\n15713144,Male,35,27000,0\\r\\n15690188,Female,33,28000,0\\r\\n15689425,Male,30,49000,0\\r\\n15671766,Female,26,72000,0\\r\\n15782806,Female,27,31000,0\\r\\n15764419,Female,27,17000,0\\r\\n15591915,Female,33,51000,0\\r\\n15772798,Male,35,108000,0\\r\\n15792008,Male,30,15000,0\\r\\n15715541,Female,28,84000,0\\r\\n15639277,Male,23,20000,0\\r\\n15798850,Male,25,79000,0\\r\\n15776348,Female,27,54000,0\\r\\n15727696,Male,30,135000,1\\r\\n15793813,Female,31,89000,0\\r\\n15694395,Female,24,32000,0\\r\\n15764195,Female,18,44000,0\\r\\n15744919,Female,29,83000,0\\r\\n15671655,Female,35,23000,0\\r\\n15654901,Female,27,58000,0\\r\\n15649136,Female,24,55000,0\\r\\n15775562,Female,23,48000,0\\r\\n15807481,Male,28,79000,0\\r\\n15642885,Male,22,18000,0\\r\\n15789109,Female,32,117000,0\\r\\n15814004,Male,27,20000,0\\r\\n15673619,Male,25,87000,0\\r\\n15595135,Female,23,66000,0\\r\\n15583681,Male,32,120000,1\\r\\n15605000,Female,59,83000,0\\r\\n15718071,Male,24,58000,0\\r\\n15679760,Male,24,19000,0\\r\\n15654574,Female,23,82000,0\\r\\n15577178,Female,22,63000,0\\r\\n15595324,Female,31,68000,0\\r\\n15756932,Male,25,80000,0\\r\\n15726358,Female,24,27000,0\\r\\n15595228,Female,20,23000,0\\r\\n15782530,Female,33,113000,0\\r\\n15592877,Male,32,18000,0\\r\\n15651983,Male,34,112000,1\\r\\n15746737,Male,18,52000,0\\r\\n15774179,Female,22,27000,0\\r\\n15667265,Female,28,87000,0\\r\\n15655123,Female,26,17000,0\\r\\n15595917,Male,30,80000,0\\r\\n15668385,Male,39,42000,0\\r\\n15709476,Male,20,49000,0\\r\\n15711218,Male,35,88000,0\\r\\n15798659,Female,30,62000,0\\r\\n15663939,Female,31,118000,1\\r\\n15694946,Male,24,55000,0\\r\\n15631912,Female,28,85000,0\\r\\n15768816,Male,26,81000,0\\r\\n15682268,Male,35,50000,0\\r\\n15684801,Male,22,81000,0\\r\\n15636428,Female,30,116000,0\\r\\n15809823,Male,26,15000,0\\r\\n15699284,Female,29,28000,0\\r\\n15786993,Female,29,83000,0\\r\\n15709441,Female,35,44000,0\\r\\n15710257,Female,35,25000,0\\r\\n15582492,Male,28,123000,1\\r\\n15575694,Male,35,73000,0\\r\\n15756820,Female,28,37000,0\\r\\n15766289,Male,27,88000,0\\r\\n15593014,Male,28,59000,0\\r\\n15584545,Female,32,86000,0\\r\\n15675949,Female,33,149000,1\\r\\n15672091,Female,19,21000,0\\r\\n15801658,Male,21,72000,0\\r\\n15706185,Female,26,35000,0\\r\\n15789863,Male,27,89000,0\\r\\n15720943,Male,26,86000,0\\r\\n15697997,Female,38,80000,0\\r\\n15665416,Female,39,71000,0\\r\\n15660200,Female,37,71000,0\\r\\n15619653,Male,38,61000,0\\r\\n15773447,Male,37,55000,0\\r\\n15739160,Male,42,80000,0\\r\\n15689237,Male,40,57000,0\\r\\n15679297,Male,35,75000,0\\r\\n15591433,Male,36,52000,0\\r\\n15642725,Male,40,59000,0\\r\\n15701962,Male,41,59000,0\\r\\n15811613,Female,36,75000,0\\r\\n15741049,Male,37,72000,0\\r\\n15724423,Female,40,75000,0\\r\\n15574305,Male,35,53000,0\\r\\n15678168,Female,41,51000,0\\r\\n15697020,Female,39,61000,0\\r\\n15610801,Male,42,65000,0\\r\\n15745232,Male,26,32000,0\\r\\n15722758,Male,30,17000,0\\r\\n15792102,Female,26,84000,0\\r\\n15675185,Male,31,58000,0\\r\\n15801247,Male,33,31000,0\\r\\n15725660,Male,30,87000,0\\r\\n15638963,Female,21,68000,0\\r\\n15800061,Female,28,55000,0\\r\\n15578006,Male,23,63000,0\\r\\n15668504,Female,20,82000,0\\r\\n15687491,Male,30,107000,1\\r\\n15610403,Female,28,59000,0\\r\\n15741094,Male,19,25000,0\\r\\n15807909,Male,19,85000,0\\r\\n15666141,Female,18,68000,0\\r\\n15617134,Male,35,59000,0\\r\\n15783029,Male,30,89000,0\\r\\n15622833,Female,34,25000,0\\r\\n15746422,Female,24,89000,0\\r\\n15750839,Female,27,96000,1\\r\\n15749130,Female,41,30000,0\\r\\n15779862,Male,29,61000,0\\r\\n15767871,Male,20,74000,0\\r\\n15679651,Female,26,15000,0\\r\\n15576219,Male,41,45000,0\\r\\n15699247,Male,31,76000,0\\r\\n15619087,Female,36,50000,0\\r\\n15605327,Male,40,47000,0\\r\\n15610140,Female,31,15000,0\\r\\n15791174,Male,46,59000,0\\r\\n15602373,Male,29,75000,0\\r\\n15762605,Male,26,30000,0\\r\\n15598840,Female,32,135000,1\\r\\n15744279,Male,32,100000,1\\r\\n15670619,Male,25,90000,0\\r\\n15599533,Female,37,33000,0\\r\\n15757837,Male,35,38000,0\\r\\n15697574,Female,33,69000,0\\r\\n15578738,Female,18,86000,0\\r\\n15762228,Female,22,55000,0\\r\\n15614827,Female,35,71000,0\\r\\n15789815,Male,29,148000,1\\r\\n15579781,Female,29,47000,0\\r\\n15587013,Male,21,88000,0\\r\\n15570932,Male,34,115000,0\\r\\n15794661,Female,26,118000,0\\r\\n15581654,Female,34,43000,0\\r\\n15644296,Female,34,72000,0\\r\\n15614420,Female,23,28000,0\\r\\n15609653,Female,35,47000,0\\r\\n15594577,Male,25,22000,0\\r\\n15584114,Male,24,23000,0\\r\\n15673367,Female,31,34000,0\\r\\n15685576,Male,26,16000,0\\r\\n15774727,Female,31,71000,0\\r\\n15694288,Female,32,117000,1\\r\\n15603319,Male,33,43000,0\\r\\n15759066,Female,33,60000,0\\r\\n15814816,Male,31,66000,0\\r\\n15724402,Female,20,82000,0\\r\\n15571059,Female,33,41000,0\\r\\n15674206,Male,35,72000,0\\r\\n15715160,Male,28,32000,0\\r\\n15730448,Male,24,84000,0\\r\\n15662067,Female,19,26000,0\\r\\n15779581,Male,29,43000,0\\r\\n15662901,Male,19,70000,0\\r\\n15689751,Male,28,89000,0\\r\\n15667742,Male,34,43000,0\\r\\n15738448,Female,30,79000,0\\r\\n15680243,Female,20,36000,0\\r\\n15745083,Male,26,80000,0\\r\\n15708228,Male,35,22000,0\\r\\n15628523,Male,35,39000,0\\r\\n15708196,Male,49,74000,0\\r\\n15735549,Female,39,134000,1\\r\\n15809347,Female,41,71000,0\\r\\n15660866,Female,58,101000,1\\r\\n15766609,Female,47,47000,0\\r\\n15654230,Female,55,130000,1\\r\\n15794566,Female,52,114000,0\\r\\n15800890,Female,40,142000,1\\r\\n15697424,Female,46,22000,0\\r\\n15724536,Female,48,96000,1\\r\\n15735878,Male,52,150000,1\\r\\n15707596,Female,59,42000,0\\r\\n15657163,Male,35,58000,0\\r\\n15622478,Male,47,43000,0\\r\\n15779529,Female,60,108000,1\\r\\n15636023,Male,49,65000,0\\r\\n15582066,Male,40,78000,0\\r\\n15666675,Female,46,96000,0\\r\\n15732987,Male,59,143000,1\\r\\n15789432,Female,41,80000,0\\r\\n15663161,Male,35,91000,1\\r\\n15694879,Male,37,144000,1\\r\\n15593715,Male,60,102000,1\\r\\n15575002,Female,35,60000,0\\r\\n15622171,Male,37,53000,0\\r\\n15795224,Female,36,126000,1\\r\\n15685346,Male,56,133000,1\\r\\n15691808,Female,40,72000,0\\r\\n15721007,Female,42,80000,1\\r\\n15794253,Female,35,147000,1\\r\\n15694453,Male,39,42000,0\\r\\n15813113,Male,40,107000,1\\r\\n15614187,Male,49,86000,1\\r\\n15619407,Female,38,112000,0\\r\\n15646227,Male,46,79000,1\\r\\n15660541,Male,40,57000,0\\r\\n15753874,Female,37,80000,0\\r\\n15617877,Female,46,82000,0\\r\\n15772073,Female,53,143000,1\\r\\n15701537,Male,42,149000,1\\r\\n15736228,Male,38,59000,0\\r\\n15780572,Female,50,88000,1\\r\\n15769596,Female,56,104000,1\\r\\n15586996,Female,41,72000,0\\r\\n15722061,Female,51,146000,1\\r\\n15638003,Female,35,50000,0\\r\\n15775590,Female,57,122000,1\\r\\n15730688,Male,41,52000,0\\r\\n15753102,Female,35,97000,1\\r\\n15810075,Female,44,39000,0\\r\\n15723373,Male,37,52000,0\\r\\n15795298,Female,48,134000,1\\r\\n15584320,Female,37,146000,1\\r\\n15724161,Female,50,44000,0\\r\\n15750056,Female,52,90000,1\\r\\n15609637,Female,41,72000,0\\r\\n15794493,Male,40,57000,0\\r\\n15569641,Female,58,95000,1\\r\\n15815236,Female,45,131000,1\\r\\n15811177,Female,35,77000,0\\r\\n15680587,Male,36,144000,1\\r\\n15672821,Female,55,125000,1\\r\\n15767681,Female,35,72000,0\\r\\n15600379,Male,48,90000,1\\r\\n15801336,Female,42,108000,1\\r\\n15721592,Male,40,75000,0\\r\\n15581282,Male,37,74000,0\\r\\n15746203,Female,47,144000,1\\r\\n15583137,Male,40,61000,0\\r\\n15680752,Female,43,133000,0\\r\\n15688172,Female,59,76000,1\\r\\n15791373,Male,60,42000,1\\r\\n15589449,Male,39,106000,1\\r\\n15692819,Female,57,26000,1\\r\\n15727467,Male,57,74000,1\\r\\n15734312,Male,38,71000,0\\r\\n15764604,Male,49,88000,1\\r\\n15613014,Female,52,38000,1\\r\\n15759684,Female,50,36000,1\\r\\n15609669,Female,59,88000,1\\r\\n15685536,Male,35,61000,0\\r\\n15750447,Male,37,70000,1\\r\\n15663249,Female,52,21000,1\\r\\n15638646,Male,48,141000,0\\r\\n15734161,Female,37,93000,1\\r\\n15631070,Female,37,62000,0\\r\\n15761950,Female,48,138000,1\\r\\n15649668,Male,41,79000,0\\r\\n15713912,Female,37,78000,1\\r\\n15586757,Male,39,134000,1\\r\\n15596522,Male,49,89000,1\\r\\n15625395,Male,55,39000,1\\r\\n15760570,Male,37,77000,0\\r\\n15566689,Female,35,57000,0\\r\\n15725794,Female,36,63000,0\\r\\n15673539,Male,42,73000,1\\r\\n15705298,Female,43,112000,1\\r\\n15675791,Male,45,79000,0\\r\\n15747043,Male,46,117000,1\\r\\n15736397,Female,58,38000,1\\r\\n15678201,Male,48,74000,1\\r\\n15720745,Female,37,137000,1\\r\\n15637593,Male,37,79000,1\\r\\n15598070,Female,40,60000,0\\r\\n15787550,Male,42,54000,0\\r\\n15603942,Female,51,134000,0\\r\\n15733973,Female,47,113000,1\\r\\n15596761,Male,36,125000,1\\r\\n15652400,Female,38,50000,0\\r\\n15717893,Female,42,70000,0\\r\\n15622585,Male,39,96000,1\\r\\n15733964,Female,38,50000,0\\r\\n15753861,Female,49,141000,1\\r\\n15747097,Female,39,79000,0\\r\\n15594762,Female,39,75000,1\\r\\n15667417,Female,54,104000,1\\r\\n15684861,Male,35,55000,0\\r\\n15742204,Male,45,32000,1\\r\\n15623502,Male,36,60000,0\\r\\n15774872,Female,52,138000,1\\r\\n15611191,Female,53,82000,1\\r\\n15674331,Male,41,52000,0\\r\\n15619465,Female,48,30000,1\\r\\n15575247,Female,48,131000,1\\r\\n15695679,Female,41,60000,0\\r\\n15713463,Male,41,72000,0\\r\\n15785170,Female,42,75000,0\\r\\n15796351,Male,36,118000,1\\r\\n15639576,Female,47,107000,1\\r\\n15693264,Male,38,51000,0\\r\\n15589715,Female,48,119000,1\\r\\n15769902,Male,42,65000,0\\r\\n15587177,Male,40,65000,0\\r\\n15814553,Male,57,60000,1\\r\\n15601550,Female,36,54000,0\\r\\n15664907,Male,58,144000,1\\r\\n15612465,Male,35,79000,0\\r\\n15810800,Female,38,55000,0\\r\\n15665760,Male,39,122000,1\\r\\n15588080,Female,53,104000,1\\r\\n15776844,Male,35,75000,0\\r\\n15717560,Female,38,65000,0\\r\\n15629739,Female,47,51000,1\\r\\n15729908,Male,47,105000,1\\r\\n15716781,Female,41,63000,0\\r\\n15646936,Male,53,72000,1\\r\\n15768151,Female,54,108000,1\\r\\n15579212,Male,39,77000,0\\r\\n15721835,Male,38,61000,0\\r\\n15800515,Female,38,113000,1\\r\\n15591279,Male,37,75000,0\\r\\n15587419,Female,42,90000,1\\r\\n15750335,Female,37,57000,0\\r\\n15699619,Male,36,99000,1\\r\\n15606472,Male,60,34000,1\\r\\n15778368,Male,54,70000,1\\r\\n15671387,Female,41,72000,0\\r\\n15573926,Male,40,71000,1\\r\\n15709183,Male,42,54000,0\\r\\n15577514,Male,43,129000,1\\r\\n15778830,Female,53,34000,1\\r\\n15768072,Female,47,50000,1\\r\\n15768293,Female,42,79000,0\\r\\n15654456,Male,42,104000,1\\r\\n15807525,Female,59,29000,1\\r\\n15574372,Female,58,47000,1\\r\\n15671249,Male,46,88000,1\\r\\n15779744,Male,38,71000,0\\r\\n15624755,Female,54,26000,1\\r\\n15611430,Female,60,46000,1\\r\\n15774744,Male,60,83000,1\\r\\n15629885,Female,39,73000,0\\r\\n15708791,Male,59,130000,1\\r\\n15793890,Female,37,80000,0\\r\\n15646091,Female,46,32000,1\\r\\n15596984,Female,46,74000,0\\r\\n15800215,Female,42,53000,0\\r\\n15577806,Male,41,87000,1\\r\\n15749381,Female,58,23000,1\\r\\n15683758,Male,42,64000,0\\r\\n15670615,Male,48,33000,1\\r\\n15715622,Female,44,139000,1\\r\\n15707634,Male,49,28000,1\\r\\n15806901,Female,57,33000,1\\r\\n15775335,Male,56,60000,1\\r\\n15724150,Female,49,39000,1\\r\\n15627220,Male,39,71000,0\\r\\n15672330,Male,47,34000,1\\r\\n15668521,Female,48,35000,1\\r\\n15807837,Male,48,33000,1\\r\\n15592570,Male,47,23000,1\\r\\n15748589,Female,45,45000,1\\r\\n15635893,Male,60,42000,1\\r\\n15757632,Female,39,59000,0\\r\\n15691863,Female,46,41000,1\\r\\n15706071,Male,51,23000,1\\r\\n15654296,Female,50,20000,1\\r\\n15755018,Male,36,33000,0\\r\\n15594041,Female,49,36000,1'}"
            ]
          },
          "metadata": {},
          "execution_count": 2
        }
      ]
    },
    {
      "cell_type": "code",
      "metadata": {
        "colab": {
          "base_uri": "https://localhost:8080/",
          "height": 423
        },
        "id": "VbOIVG40n5Ns",
        "outputId": "f18c9299-f4a0-4837-ed83-9587beeb3bf9"
      },
      "source": [
        "df=pd.read_csv(\"Social_Network_Ads.csv\")\n",
        "df"
      ],
      "execution_count": 3,
      "outputs": [
        {
          "output_type": "execute_result",
          "data": {
            "text/html": [
              "<div>\n",
              "<style scoped>\n",
              "    .dataframe tbody tr th:only-of-type {\n",
              "        vertical-align: middle;\n",
              "    }\n",
              "\n",
              "    .dataframe tbody tr th {\n",
              "        vertical-align: top;\n",
              "    }\n",
              "\n",
              "    .dataframe thead th {\n",
              "        text-align: right;\n",
              "    }\n",
              "</style>\n",
              "<table border=\"1\" class=\"dataframe\">\n",
              "  <thead>\n",
              "    <tr style=\"text-align: right;\">\n",
              "      <th></th>\n",
              "      <th>User ID</th>\n",
              "      <th>Gender</th>\n",
              "      <th>Age</th>\n",
              "      <th>EstimatedSalary</th>\n",
              "      <th>Purchased</th>\n",
              "    </tr>\n",
              "  </thead>\n",
              "  <tbody>\n",
              "    <tr>\n",
              "      <th>0</th>\n",
              "      <td>15624510</td>\n",
              "      <td>Male</td>\n",
              "      <td>19</td>\n",
              "      <td>19000</td>\n",
              "      <td>0</td>\n",
              "    </tr>\n",
              "    <tr>\n",
              "      <th>1</th>\n",
              "      <td>15810944</td>\n",
              "      <td>Male</td>\n",
              "      <td>35</td>\n",
              "      <td>20000</td>\n",
              "      <td>0</td>\n",
              "    </tr>\n",
              "    <tr>\n",
              "      <th>2</th>\n",
              "      <td>15668575</td>\n",
              "      <td>Female</td>\n",
              "      <td>26</td>\n",
              "      <td>43000</td>\n",
              "      <td>0</td>\n",
              "    </tr>\n",
              "    <tr>\n",
              "      <th>3</th>\n",
              "      <td>15603246</td>\n",
              "      <td>Female</td>\n",
              "      <td>27</td>\n",
              "      <td>57000</td>\n",
              "      <td>0</td>\n",
              "    </tr>\n",
              "    <tr>\n",
              "      <th>4</th>\n",
              "      <td>15804002</td>\n",
              "      <td>Male</td>\n",
              "      <td>19</td>\n",
              "      <td>76000</td>\n",
              "      <td>0</td>\n",
              "    </tr>\n",
              "    <tr>\n",
              "      <th>...</th>\n",
              "      <td>...</td>\n",
              "      <td>...</td>\n",
              "      <td>...</td>\n",
              "      <td>...</td>\n",
              "      <td>...</td>\n",
              "    </tr>\n",
              "    <tr>\n",
              "      <th>395</th>\n",
              "      <td>15691863</td>\n",
              "      <td>Female</td>\n",
              "      <td>46</td>\n",
              "      <td>41000</td>\n",
              "      <td>1</td>\n",
              "    </tr>\n",
              "    <tr>\n",
              "      <th>396</th>\n",
              "      <td>15706071</td>\n",
              "      <td>Male</td>\n",
              "      <td>51</td>\n",
              "      <td>23000</td>\n",
              "      <td>1</td>\n",
              "    </tr>\n",
              "    <tr>\n",
              "      <th>397</th>\n",
              "      <td>15654296</td>\n",
              "      <td>Female</td>\n",
              "      <td>50</td>\n",
              "      <td>20000</td>\n",
              "      <td>1</td>\n",
              "    </tr>\n",
              "    <tr>\n",
              "      <th>398</th>\n",
              "      <td>15755018</td>\n",
              "      <td>Male</td>\n",
              "      <td>36</td>\n",
              "      <td>33000</td>\n",
              "      <td>0</td>\n",
              "    </tr>\n",
              "    <tr>\n",
              "      <th>399</th>\n",
              "      <td>15594041</td>\n",
              "      <td>Female</td>\n",
              "      <td>49</td>\n",
              "      <td>36000</td>\n",
              "      <td>1</td>\n",
              "    </tr>\n",
              "  </tbody>\n",
              "</table>\n",
              "<p>400 rows × 5 columns</p>\n",
              "</div>"
            ],
            "text/plain": [
              "      User ID  Gender  Age  EstimatedSalary  Purchased\n",
              "0    15624510    Male   19            19000          0\n",
              "1    15810944    Male   35            20000          0\n",
              "2    15668575  Female   26            43000          0\n",
              "3    15603246  Female   27            57000          0\n",
              "4    15804002    Male   19            76000          0\n",
              "..        ...     ...  ...              ...        ...\n",
              "395  15691863  Female   46            41000          1\n",
              "396  15706071    Male   51            23000          1\n",
              "397  15654296  Female   50            20000          1\n",
              "398  15755018    Male   36            33000          0\n",
              "399  15594041  Female   49            36000          1\n",
              "\n",
              "[400 rows x 5 columns]"
            ]
          },
          "metadata": {},
          "execution_count": 3
        }
      ]
    },
    {
      "cell_type": "code",
      "metadata": {
        "colab": {
          "base_uri": "https://localhost:8080/"
        },
        "id": "X_yZsx2un5K2",
        "outputId": "60bcd634-76fa-411d-9547-e863ee115e9c"
      },
      "source": [
        "df.shape"
      ],
      "execution_count": 4,
      "outputs": [
        {
          "output_type": "execute_result",
          "data": {
            "text/plain": [
              "(400, 5)"
            ]
          },
          "metadata": {},
          "execution_count": 4
        }
      ]
    },
    {
      "cell_type": "code",
      "metadata": {
        "id": "E9l1YU9Vn5Ib"
      },
      "source": [
        "df.drop('User ID', axis=1, inplace=True)"
      ],
      "execution_count": 5,
      "outputs": []
    },
    {
      "cell_type": "code",
      "metadata": {
        "colab": {
          "base_uri": "https://localhost:8080/"
        },
        "id": "E35C7_zAn5F0",
        "outputId": "e923caaf-f26b-4fb3-e4fc-5902f55212d3"
      },
      "source": [
        "df.info()"
      ],
      "execution_count": 6,
      "outputs": [
        {
          "output_type": "stream",
          "name": "stdout",
          "text": [
            "<class 'pandas.core.frame.DataFrame'>\n",
            "RangeIndex: 400 entries, 0 to 399\n",
            "Data columns (total 4 columns):\n",
            " #   Column           Non-Null Count  Dtype \n",
            "---  ------           --------------  ----- \n",
            " 0   Gender           400 non-null    object\n",
            " 1   Age              400 non-null    int64 \n",
            " 2   EstimatedSalary  400 non-null    int64 \n",
            " 3   Purchased        400 non-null    int64 \n",
            "dtypes: int64(3), object(1)\n",
            "memory usage: 12.6+ KB\n"
          ]
        }
      ]
    },
    {
      "cell_type": "code",
      "metadata": {
        "colab": {
          "base_uri": "https://localhost:8080/"
        },
        "id": "Nq1IKshOn5DN",
        "outputId": "c715c001-1218-43eb-b2ee-ee1439473da7"
      },
      "source": [
        "#confirmation for null values\n",
        "df.isna().sum()"
      ],
      "execution_count": 7,
      "outputs": [
        {
          "output_type": "execute_result",
          "data": {
            "text/plain": [
              "Gender             0\n",
              "Age                0\n",
              "EstimatedSalary    0\n",
              "Purchased          0\n",
              "dtype: int64"
            ]
          },
          "metadata": {},
          "execution_count": 7
        }
      ]
    },
    {
      "cell_type": "code",
      "metadata": {
        "colab": {
          "base_uri": "https://localhost:8080/",
          "height": 423
        },
        "id": "GEYCogQEn5AM",
        "outputId": "8c5fa48a-f9de-4067-ffbc-2a0bf55ba622"
      },
      "source": [
        "df.Gender=df.Gender.str.lower()\n",
        "df.Gender=df.Gender.str.strip()\n",
        "df"
      ],
      "execution_count": 8,
      "outputs": [
        {
          "output_type": "execute_result",
          "data": {
            "text/html": [
              "<div>\n",
              "<style scoped>\n",
              "    .dataframe tbody tr th:only-of-type {\n",
              "        vertical-align: middle;\n",
              "    }\n",
              "\n",
              "    .dataframe tbody tr th {\n",
              "        vertical-align: top;\n",
              "    }\n",
              "\n",
              "    .dataframe thead th {\n",
              "        text-align: right;\n",
              "    }\n",
              "</style>\n",
              "<table border=\"1\" class=\"dataframe\">\n",
              "  <thead>\n",
              "    <tr style=\"text-align: right;\">\n",
              "      <th></th>\n",
              "      <th>Gender</th>\n",
              "      <th>Age</th>\n",
              "      <th>EstimatedSalary</th>\n",
              "      <th>Purchased</th>\n",
              "    </tr>\n",
              "  </thead>\n",
              "  <tbody>\n",
              "    <tr>\n",
              "      <th>0</th>\n",
              "      <td>male</td>\n",
              "      <td>19</td>\n",
              "      <td>19000</td>\n",
              "      <td>0</td>\n",
              "    </tr>\n",
              "    <tr>\n",
              "      <th>1</th>\n",
              "      <td>male</td>\n",
              "      <td>35</td>\n",
              "      <td>20000</td>\n",
              "      <td>0</td>\n",
              "    </tr>\n",
              "    <tr>\n",
              "      <th>2</th>\n",
              "      <td>female</td>\n",
              "      <td>26</td>\n",
              "      <td>43000</td>\n",
              "      <td>0</td>\n",
              "    </tr>\n",
              "    <tr>\n",
              "      <th>3</th>\n",
              "      <td>female</td>\n",
              "      <td>27</td>\n",
              "      <td>57000</td>\n",
              "      <td>0</td>\n",
              "    </tr>\n",
              "    <tr>\n",
              "      <th>4</th>\n",
              "      <td>male</td>\n",
              "      <td>19</td>\n",
              "      <td>76000</td>\n",
              "      <td>0</td>\n",
              "    </tr>\n",
              "    <tr>\n",
              "      <th>...</th>\n",
              "      <td>...</td>\n",
              "      <td>...</td>\n",
              "      <td>...</td>\n",
              "      <td>...</td>\n",
              "    </tr>\n",
              "    <tr>\n",
              "      <th>395</th>\n",
              "      <td>female</td>\n",
              "      <td>46</td>\n",
              "      <td>41000</td>\n",
              "      <td>1</td>\n",
              "    </tr>\n",
              "    <tr>\n",
              "      <th>396</th>\n",
              "      <td>male</td>\n",
              "      <td>51</td>\n",
              "      <td>23000</td>\n",
              "      <td>1</td>\n",
              "    </tr>\n",
              "    <tr>\n",
              "      <th>397</th>\n",
              "      <td>female</td>\n",
              "      <td>50</td>\n",
              "      <td>20000</td>\n",
              "      <td>1</td>\n",
              "    </tr>\n",
              "    <tr>\n",
              "      <th>398</th>\n",
              "      <td>male</td>\n",
              "      <td>36</td>\n",
              "      <td>33000</td>\n",
              "      <td>0</td>\n",
              "    </tr>\n",
              "    <tr>\n",
              "      <th>399</th>\n",
              "      <td>female</td>\n",
              "      <td>49</td>\n",
              "      <td>36000</td>\n",
              "      <td>1</td>\n",
              "    </tr>\n",
              "  </tbody>\n",
              "</table>\n",
              "<p>400 rows × 4 columns</p>\n",
              "</div>"
            ],
            "text/plain": [
              "     Gender  Age  EstimatedSalary  Purchased\n",
              "0      male   19            19000          0\n",
              "1      male   35            20000          0\n",
              "2    female   26            43000          0\n",
              "3    female   27            57000          0\n",
              "4      male   19            76000          0\n",
              "..      ...  ...              ...        ...\n",
              "395  female   46            41000          1\n",
              "396    male   51            23000          1\n",
              "397  female   50            20000          1\n",
              "398    male   36            33000          0\n",
              "399  female   49            36000          1\n",
              "\n",
              "[400 rows x 4 columns]"
            ]
          },
          "metadata": {},
          "execution_count": 8
        }
      ]
    },
    {
      "cell_type": "code",
      "metadata": {
        "colab": {
          "base_uri": "https://localhost:8080/",
          "height": 423
        },
        "id": "xj-R0j4hn49u",
        "outputId": "bf73610a-a51a-4338-99d3-a7949ede5c34"
      },
      "source": [
        "df.Gender=df.Gender.map({'male':0,\"female\":1})\n",
        "df"
      ],
      "execution_count": 9,
      "outputs": [
        {
          "output_type": "execute_result",
          "data": {
            "text/html": [
              "<div>\n",
              "<style scoped>\n",
              "    .dataframe tbody tr th:only-of-type {\n",
              "        vertical-align: middle;\n",
              "    }\n",
              "\n",
              "    .dataframe tbody tr th {\n",
              "        vertical-align: top;\n",
              "    }\n",
              "\n",
              "    .dataframe thead th {\n",
              "        text-align: right;\n",
              "    }\n",
              "</style>\n",
              "<table border=\"1\" class=\"dataframe\">\n",
              "  <thead>\n",
              "    <tr style=\"text-align: right;\">\n",
              "      <th></th>\n",
              "      <th>Gender</th>\n",
              "      <th>Age</th>\n",
              "      <th>EstimatedSalary</th>\n",
              "      <th>Purchased</th>\n",
              "    </tr>\n",
              "  </thead>\n",
              "  <tbody>\n",
              "    <tr>\n",
              "      <th>0</th>\n",
              "      <td>0</td>\n",
              "      <td>19</td>\n",
              "      <td>19000</td>\n",
              "      <td>0</td>\n",
              "    </tr>\n",
              "    <tr>\n",
              "      <th>1</th>\n",
              "      <td>0</td>\n",
              "      <td>35</td>\n",
              "      <td>20000</td>\n",
              "      <td>0</td>\n",
              "    </tr>\n",
              "    <tr>\n",
              "      <th>2</th>\n",
              "      <td>1</td>\n",
              "      <td>26</td>\n",
              "      <td>43000</td>\n",
              "      <td>0</td>\n",
              "    </tr>\n",
              "    <tr>\n",
              "      <th>3</th>\n",
              "      <td>1</td>\n",
              "      <td>27</td>\n",
              "      <td>57000</td>\n",
              "      <td>0</td>\n",
              "    </tr>\n",
              "    <tr>\n",
              "      <th>4</th>\n",
              "      <td>0</td>\n",
              "      <td>19</td>\n",
              "      <td>76000</td>\n",
              "      <td>0</td>\n",
              "    </tr>\n",
              "    <tr>\n",
              "      <th>...</th>\n",
              "      <td>...</td>\n",
              "      <td>...</td>\n",
              "      <td>...</td>\n",
              "      <td>...</td>\n",
              "    </tr>\n",
              "    <tr>\n",
              "      <th>395</th>\n",
              "      <td>1</td>\n",
              "      <td>46</td>\n",
              "      <td>41000</td>\n",
              "      <td>1</td>\n",
              "    </tr>\n",
              "    <tr>\n",
              "      <th>396</th>\n",
              "      <td>0</td>\n",
              "      <td>51</td>\n",
              "      <td>23000</td>\n",
              "      <td>1</td>\n",
              "    </tr>\n",
              "    <tr>\n",
              "      <th>397</th>\n",
              "      <td>1</td>\n",
              "      <td>50</td>\n",
              "      <td>20000</td>\n",
              "      <td>1</td>\n",
              "    </tr>\n",
              "    <tr>\n",
              "      <th>398</th>\n",
              "      <td>0</td>\n",
              "      <td>36</td>\n",
              "      <td>33000</td>\n",
              "      <td>0</td>\n",
              "    </tr>\n",
              "    <tr>\n",
              "      <th>399</th>\n",
              "      <td>1</td>\n",
              "      <td>49</td>\n",
              "      <td>36000</td>\n",
              "      <td>1</td>\n",
              "    </tr>\n",
              "  </tbody>\n",
              "</table>\n",
              "<p>400 rows × 4 columns</p>\n",
              "</div>"
            ],
            "text/plain": [
              "     Gender  Age  EstimatedSalary  Purchased\n",
              "0         0   19            19000          0\n",
              "1         0   35            20000          0\n",
              "2         1   26            43000          0\n",
              "3         1   27            57000          0\n",
              "4         0   19            76000          0\n",
              "..      ...  ...              ...        ...\n",
              "395       1   46            41000          1\n",
              "396       0   51            23000          1\n",
              "397       1   50            20000          1\n",
              "398       0   36            33000          0\n",
              "399       1   49            36000          1\n",
              "\n",
              "[400 rows x 4 columns]"
            ]
          },
          "metadata": {},
          "execution_count": 9
        }
      ]
    },
    {
      "cell_type": "code",
      "metadata": {
        "colab": {
          "base_uri": "https://localhost:8080/",
          "height": 300
        },
        "id": "sLu8hTKMn460",
        "outputId": "408c97e5-a842-4d7e-96f3-8fed169b4edb"
      },
      "source": [
        "df.describe()"
      ],
      "execution_count": 27,
      "outputs": [
        {
          "output_type": "execute_result",
          "data": {
            "text/html": [
              "<div>\n",
              "<style scoped>\n",
              "    .dataframe tbody tr th:only-of-type {\n",
              "        vertical-align: middle;\n",
              "    }\n",
              "\n",
              "    .dataframe tbody tr th {\n",
              "        vertical-align: top;\n",
              "    }\n",
              "\n",
              "    .dataframe thead th {\n",
              "        text-align: right;\n",
              "    }\n",
              "</style>\n",
              "<table border=\"1\" class=\"dataframe\">\n",
              "  <thead>\n",
              "    <tr style=\"text-align: right;\">\n",
              "      <th></th>\n",
              "      <th>Gender</th>\n",
              "      <th>Age</th>\n",
              "      <th>EstimatedSalary</th>\n",
              "      <th>Purchased</th>\n",
              "    </tr>\n",
              "  </thead>\n",
              "  <tbody>\n",
              "    <tr>\n",
              "      <th>count</th>\n",
              "      <td>400.000000</td>\n",
              "      <td>400.000000</td>\n",
              "      <td>400.000000</td>\n",
              "      <td>400.000000</td>\n",
              "    </tr>\n",
              "    <tr>\n",
              "      <th>mean</th>\n",
              "      <td>0.510000</td>\n",
              "      <td>37.655000</td>\n",
              "      <td>69742.500000</td>\n",
              "      <td>0.357500</td>\n",
              "    </tr>\n",
              "    <tr>\n",
              "      <th>std</th>\n",
              "      <td>0.500526</td>\n",
              "      <td>10.482877</td>\n",
              "      <td>34096.960282</td>\n",
              "      <td>0.479864</td>\n",
              "    </tr>\n",
              "    <tr>\n",
              "      <th>min</th>\n",
              "      <td>0.000000</td>\n",
              "      <td>18.000000</td>\n",
              "      <td>15000.000000</td>\n",
              "      <td>0.000000</td>\n",
              "    </tr>\n",
              "    <tr>\n",
              "      <th>25%</th>\n",
              "      <td>0.000000</td>\n",
              "      <td>29.750000</td>\n",
              "      <td>43000.000000</td>\n",
              "      <td>0.000000</td>\n",
              "    </tr>\n",
              "    <tr>\n",
              "      <th>50%</th>\n",
              "      <td>1.000000</td>\n",
              "      <td>37.000000</td>\n",
              "      <td>70000.000000</td>\n",
              "      <td>0.000000</td>\n",
              "    </tr>\n",
              "    <tr>\n",
              "      <th>75%</th>\n",
              "      <td>1.000000</td>\n",
              "      <td>46.000000</td>\n",
              "      <td>88000.000000</td>\n",
              "      <td>1.000000</td>\n",
              "    </tr>\n",
              "    <tr>\n",
              "      <th>max</th>\n",
              "      <td>1.000000</td>\n",
              "      <td>60.000000</td>\n",
              "      <td>150000.000000</td>\n",
              "      <td>1.000000</td>\n",
              "    </tr>\n",
              "  </tbody>\n",
              "</table>\n",
              "</div>"
            ],
            "text/plain": [
              "           Gender         Age  EstimatedSalary   Purchased\n",
              "count  400.000000  400.000000       400.000000  400.000000\n",
              "mean     0.510000   37.655000     69742.500000    0.357500\n",
              "std      0.500526   10.482877     34096.960282    0.479864\n",
              "min      0.000000   18.000000     15000.000000    0.000000\n",
              "25%      0.000000   29.750000     43000.000000    0.000000\n",
              "50%      1.000000   37.000000     70000.000000    0.000000\n",
              "75%      1.000000   46.000000     88000.000000    1.000000\n",
              "max      1.000000   60.000000    150000.000000    1.000000"
            ]
          },
          "metadata": {},
          "execution_count": 27
        }
      ]
    },
    {
      "cell_type": "code",
      "metadata": {
        "id": "rLZMTrA6n44f"
      },
      "source": [
        "X = df.drop(['Purchased'], axis=1)\n",
        "\n",
        "y = df['Purchased']"
      ],
      "execution_count": 29,
      "outputs": []
    },
    {
      "cell_type": "markdown",
      "metadata": {
        "id": "9Thl3lvkn9Kr"
      },
      "source": [
        "**Splitting the dataset into the Training set and Test set**"
      ]
    },
    {
      "cell_type": "code",
      "metadata": {
        "id": "sp359H4XnqD3"
      },
      "source": [
        "# split data into training and testing sets\n",
        "\n",
        "from sklearn.model_selection import train_test_split\n",
        "\n",
        "X_train, X_test, y_train, y_test = train_test_split(X, y, test_size = 0.33, random_state = 42)"
      ],
      "execution_count": 30,
      "outputs": []
    },
    {
      "cell_type": "code",
      "metadata": {
        "colab": {
          "base_uri": "https://localhost:8080/"
        },
        "id": "SUBYem0zwET7",
        "outputId": "c2df383a-cb75-4318-8ad0-3fd1b03cbd9d"
      },
      "source": [
        "X_train.shape, X_test.shape"
      ],
      "execution_count": 31,
      "outputs": [
        {
          "output_type": "execute_result",
          "data": {
            "text/plain": [
              "((268, 3), (132, 3))"
            ]
          },
          "metadata": {},
          "execution_count": 31
        }
      ]
    },
    {
      "cell_type": "code",
      "metadata": {
        "id": "EURr2nowvqHD"
      },
      "source": [
        ""
      ],
      "execution_count": 32,
      "outputs": []
    },
    {
      "cell_type": "markdown",
      "metadata": {
        "id": "XNNxUncRoG6K"
      },
      "source": [
        "**Feature Scaling**"
      ]
    },
    {
      "cell_type": "code",
      "metadata": {
        "id": "loYjT47TnqIG",
        "colab": {
          "base_uri": "https://localhost:8080/"
        },
        "outputId": "f190d1db-c8f6-41e9-e731-19eb984b1762"
      },
      "source": [
        "normalizer = preprocessing.Normalizer()\n",
        "normalized_train_X = normalizer.fit_transform(X_train)\n",
        "normalized_train_X"
      ],
      "execution_count": 35,
      "outputs": [
        {
          "output_type": "execute_result",
          "data": {
            "text/plain": [
              "array([[1.05263138e-05, 6.10526202e-04, 9.99999814e-01],\n",
              "       [0.00000000e+00, 1.13636290e-03, 9.99999354e-01],\n",
              "       [0.00000000e+00, 6.94915086e-04, 9.99999759e-01],\n",
              "       [0.00000000e+00, 3.14606726e-04, 9.99999951e-01],\n",
              "       [1.24999983e-05, 5.24999928e-04, 9.99999862e-01],\n",
              "       [9.25925856e-06, 3.88888859e-04, 9.99999924e-01],\n",
              "       [1.04166655e-05, 4.79166612e-04, 9.99999885e-01],\n",
              "       [8.84955676e-06, 4.15929168e-04, 9.99999913e-01],\n",
              "       [3.57142609e-05, 1.17857061e-03, 9.99999305e-01],\n",
              "       [0.00000000e+00, 7.59999781e-04, 9.99999711e-01],\n",
              "       [0.00000000e+00, 5.50561714e-04, 9.99999848e-01],\n",
              "       [6.66665241e-05, 2.06666225e-03, 9.99997862e-01],\n",
              "       [1.26582269e-05, 3.79746808e-04, 9.99999928e-01],\n",
              "       [0.00000000e+00, 3.40425512e-04, 9.99999942e-01],\n",
              "       [8.54700823e-06, 2.73504263e-04, 9.99999963e-01],\n",
              "       [1.40845051e-05, 5.21126690e-04, 9.99999864e-01],\n",
              "       [1.16279067e-05, 2.09302321e-04, 9.99999978e-01],\n",
              "       [1.26582261e-05, 5.31645494e-04, 9.99999859e-01],\n",
              "       [1.19047613e-05, 3.21428555e-04, 9.99999948e-01],\n",
              "       [0.00000000e+00, 6.15384499e-04, 9.99999811e-01],\n",
              "       [0.00000000e+00, 7.70270042e-04, 9.99999703e-01],\n",
              "       [6.66665664e-05, 1.73333073e-03, 9.99998496e-01],\n",
              "       [1.24999993e-05, 3.24999983e-04, 9.99999947e-01],\n",
              "       [0.00000000e+00, 6.74418451e-04, 9.99999773e-01],\n",
              "       [6.71140923e-06, 2.21476505e-04, 9.99999975e-01],\n",
              "       [0.00000000e+00, 9.28571028e-04, 9.99999569e-01],\n",
              "       [9.61538332e-06, 5.19230699e-04, 9.99999865e-01],\n",
              "       [0.00000000e+00, 1.09090844e-03, 9.99999405e-01],\n",
              "       [3.12499677e-05, 1.43749851e-03, 9.99998966e-01],\n",
              "       [7.04225324e-06, 2.81690130e-04, 9.99999960e-01],\n",
              "       [1.61290294e-05, 5.96774087e-04, 9.99999822e-01],\n",
              "       [0.00000000e+00, 1.95945942e-04, 9.99999981e-01],\n",
              "       [1.75438560e-05, 6.49122670e-04, 9.99999789e-01],\n",
              "       [0.00000000e+00, 6.99999829e-04, 9.99999755e-01],\n",
              "       [1.88679186e-05, 7.92452581e-04, 9.99999686e-01],\n",
              "       [0.00000000e+00, 9.21052241e-04, 9.99999576e-01],\n",
              "       [3.33333022e-05, 1.36666539e-03, 9.99999066e-01],\n",
              "       [1.38888867e-05, 5.55555470e-04, 9.99999846e-01],\n",
              "       [0.00000000e+00, 1.73333073e-03, 9.99998498e-01],\n",
              "       [1.47058808e-05, 4.55882306e-04, 9.99999896e-01],\n",
              "       [0.00000000e+00, 6.60377214e-04, 9.99999782e-01],\n",
              "       [3.99999608e-05, 1.39999863e-03, 9.99999019e-01],\n",
              "       [0.00000000e+00, 3.37078633e-04, 9.99999943e-01],\n",
              "       [0.00000000e+00, 5.69444352e-04, 9.99999838e-01],\n",
              "       [0.00000000e+00, 2.27642271e-04, 9.99999974e-01],\n",
              "       [1.21951200e-05, 5.60975521e-04, 9.99999843e-01],\n",
              "       [1.58730149e-05, 3.49206328e-04, 9.99999939e-01],\n",
              "       [4.54544503e-05, 2.04545026e-03, 9.99997907e-01],\n",
              "       [0.00000000e+00, 6.12244783e-04, 9.99999813e-01],\n",
              "       [3.99999630e-05, 1.35999874e-03, 9.99999074e-01],\n",
              "       [1.33333314e-05, 5.33333257e-04, 9.99999858e-01],\n",
              "       [8.54700823e-06, 2.73504263e-04, 9.99999963e-01],\n",
              "       [1.21951215e-05, 2.80487794e-04, 9.99999961e-01],\n",
              "       [0.00000000e+00, 3.24999983e-04, 9.99999947e-01],\n",
              "       [7.63358727e-06, 3.66412189e-04, 9.99999933e-01],\n",
              "       [0.00000000e+00, 4.12587377e-04, 9.99999915e-01],\n",
              "       [0.00000000e+00, 6.36363508e-04, 9.99999798e-01],\n",
              "       [0.00000000e+00, 7.90697427e-04, 9.99999687e-01],\n",
              "       [1.63934393e-05, 6.39344132e-04, 9.99999795e-01],\n",
              "       [1.04166663e-05, 2.81249989e-04, 9.99999960e-01],\n",
              "       [0.00000000e+00, 7.22891377e-04, 9.99999739e-01],\n",
              "       [0.00000000e+00, 4.36363595e-04, 9.99999905e-01],\n",
              "       [0.00000000e+00, 4.02777745e-04, 9.99999919e-01],\n",
              "       [9.61538337e-06, 5.09615318e-04, 9.99999870e-01],\n",
              "       [0.00000000e+00, 4.43037931e-04, 9.99999902e-01],\n",
              "       [0.00000000e+00, 3.63636340e-04, 9.99999934e-01],\n",
              "       [0.00000000e+00, 9.49999571e-04, 9.99999549e-01],\n",
              "       [7.29926981e-06, 2.70072983e-04, 9.99999964e-01],\n",
              "       [0.00000000e+00, 7.67441634e-04, 9.99999706e-01],\n",
              "       [1.40845047e-05, 5.77464692e-04, 9.99999833e-01],\n",
              "       [4.76189016e-05, 2.47618288e-03, 9.99996933e-01],\n",
              "       [0.00000000e+00, 3.46666646e-04, 9.99999940e-01],\n",
              "       [0.00000000e+00, 5.28571355e-04, 9.99999860e-01],\n",
              "       [1.19047613e-05, 3.09523795e-04, 9.99999952e-01],\n",
              "       [1.38888880e-05, 3.61111088e-04, 9.99999935e-01],\n",
              "       [1.92307668e-05, 4.99999937e-04, 9.99999875e-01],\n",
              "       [1.66666628e-05, 6.83333174e-04, 9.99999766e-01],\n",
              "       [0.00000000e+00, 4.69696918e-04, 9.99999890e-01],\n",
              "       [0.00000000e+00, 2.56944436e-04, 9.99999967e-01],\n",
              "       [0.00000000e+00, 6.22950699e-04, 9.99999806e-01],\n",
              "       [2.94117525e-05, 9.11764327e-04, 9.99999584e-01],\n",
              "       [1.33333312e-05, 5.59999912e-04, 9.99999843e-01],\n",
              "       [0.00000000e+00, 3.93162363e-04, 9.99999923e-01],\n",
              "       [0.00000000e+00, 6.92307526e-04, 9.99999760e-01],\n",
              "       [0.00000000e+00, 5.35211191e-04, 9.99999857e-01],\n",
              "       [0.00000000e+00, 5.56818095e-04, 9.99999845e-01],\n",
              "       [3.03029851e-05, 1.72727015e-03, 9.99998508e-01],\n",
              "       [7.24637637e-06, 3.47826066e-04, 9.99999939e-01],\n",
              "       [1.99999912e-05, 9.39999585e-04, 9.99999558e-01],\n",
              "       [1.44927520e-05, 4.78260815e-04, 9.99999886e-01],\n",
              "       [6.84931485e-06, 2.53424649e-04, 9.99999968e-01],\n",
              "       [1.21951216e-05, 2.43902432e-04, 9.99999970e-01],\n",
              "       [0.00000000e+00, 8.51063522e-04, 9.99999638e-01],\n",
              "       [0.00000000e+00, 1.59090708e-03, 9.99998735e-01],\n",
              "       [2.77777735e-05, 5.55555470e-04, 9.99999845e-01],\n",
              "       [2.22222111e-05, 9.99999500e-04, 9.99999500e-01],\n",
              "       [2.32558097e-05, 6.04651052e-04, 9.99999817e-01],\n",
              "       [9.90098847e-06, 5.74257331e-04, 9.99999835e-01],\n",
              "       [0.00000000e+00, 7.01754213e-04, 9.99999754e-01],\n",
              "       [8.92857091e-06, 3.39285695e-04, 9.99999942e-01],\n",
              "       [1.24999987e-05, 4.62499950e-04, 9.99999893e-01],\n",
              "       [0.00000000e+00, 1.74999732e-03, 9.99998469e-01],\n",
              "       [1.33333318e-05, 4.79999945e-04, 9.99999885e-01],\n",
              "       [1.38888866e-05, 5.69444352e-04, 9.99999838e-01],\n",
              "       [1.66666638e-05, 5.83333234e-04, 9.99999830e-01],\n",
              "       [0.00000000e+00, 3.33333315e-04, 9.99999944e-01],\n",
              "       [0.00000000e+00, 4.71264315e-04, 9.99999889e-01],\n",
              "       [8.84955702e-06, 3.36283167e-04, 9.99999943e-01],\n",
              "       [4.34781226e-05, 2.52173111e-03, 9.99996819e-01],\n",
              "       [0.00000000e+00, 8.12499732e-04, 9.99999670e-01],\n",
              "       [0.00000000e+00, 1.77777497e-03, 9.99998420e-01],\n",
              "       [0.00000000e+00, 7.88461293e-04, 9.99999689e-01],\n",
              "       [0.00000000e+00, 1.72221967e-03, 9.99998517e-01],\n",
              "       [0.00000000e+00, 3.97727241e-04, 9.99999921e-01],\n",
              "       [2.85714017e-05, 1.37142728e-03, 9.99999059e-01],\n",
              "       [0.00000000e+00, 3.03370773e-04, 9.99999954e-01],\n",
              "       [1.03092777e-05, 3.60824719e-04, 9.99999935e-01],\n",
              "       [0.00000000e+00, 5.75342371e-04, 9.99999834e-01],\n",
              "       [1.47058817e-05, 3.08823515e-04, 9.99999952e-01],\n",
              "       [1.38888866e-05, 5.69444352e-04, 9.99999838e-01],\n",
              "       [1.66666641e-05, 5.49999917e-04, 9.99999849e-01],\n",
              "       [0.00000000e+00, 2.91044764e-04, 9.99999958e-01],\n",
              "       [1.19047612e-05, 3.33333315e-04, 9.99999944e-01],\n",
              "       [0.00000000e+00, 5.22727201e-04, 9.99999863e-01],\n",
              "       [0.00000000e+00, 4.13793068e-04, 9.99999914e-01],\n",
              "       [8.47457598e-06, 2.62711855e-04, 9.99999965e-01],\n",
              "       [1.13636345e-05, 5.68181726e-04, 9.99999839e-01],\n",
              "       [1.21951216e-05, 2.43902432e-04, 9.99999970e-01],\n",
              "       [7.40740720e-06, 2.37037030e-04, 9.99999972e-01],\n",
              "       [0.00000000e+00, 2.32558133e-04, 9.99999973e-01],\n",
              "       [0.00000000e+00, 1.29629521e-03, 9.99999160e-01],\n",
              "       [0.00000000e+00, 6.74418451e-04, 9.99999773e-01],\n",
              "       [0.00000000e+00, 2.38636357e-04, 9.99999972e-01],\n",
              "       [0.00000000e+00, 5.93220235e-04, 9.99999824e-01],\n",
              "       [0.00000000e+00, 1.40624861e-03, 9.99999011e-01],\n",
              "       [0.00000000e+00, 1.42856997e-03, 9.99998980e-01],\n",
              "       [0.00000000e+00, 3.84615356e-04, 9.99999926e-01],\n",
              "       [2.27272655e-05, 7.95454294e-04, 9.99999683e-01],\n",
              "       [2.27272708e-05, 4.09090875e-04, 9.99999916e-01],\n",
              "       [0.00000000e+00, 2.81879183e-04, 9.99999960e-01],\n",
              "       [0.00000000e+00, 5.69620161e-04, 9.99999838e-01],\n",
              "       [1.66666630e-05, 6.66666518e-04, 9.99999778e-01],\n",
              "       [0.00000000e+00, 1.04347769e-03, 9.99999456e-01],\n",
              "       [1.96078390e-05, 6.47058688e-04, 9.99999790e-01],\n",
              "       [1.42857117e-05, 5.99999892e-04, 9.99999820e-01],\n",
              "       [7.69230700e-06, 4.23076885e-04, 9.99999910e-01],\n",
              "       [2.27272580e-05, 1.13636290e-03, 9.99999354e-01],\n",
              "       [8.40336066e-06, 4.03361312e-04, 9.99999919e-01],\n",
              "       [0.00000000e+00, 2.49999992e-04, 9.99999969e-01],\n",
              "       [1.38888866e-05, 5.69444352e-04, 9.99999838e-01],\n",
              "       [0.00000000e+00, 5.63380192e-04, 9.99999841e-01],\n",
              "       [0.00000000e+00, 3.06818167e-04, 9.99999953e-01],\n",
              "       [7.93650761e-06, 2.85714274e-04, 9.99999959e-01],\n",
              "       [0.00000000e+00, 4.66666616e-04, 9.99999891e-01],\n",
              "       [0.00000000e+00, 6.03448166e-04, 9.99999818e-01],\n",
              "       [0.00000000e+00, 2.95652161e-04, 9.99999956e-01],\n",
              "       [0.00000000e+00, 4.79452000e-04, 9.99999885e-01],\n",
              "       [9.25925783e-06, 5.55555470e-04, 9.99999846e-01],\n",
              "       [0.00000000e+00, 2.87356310e-04, 9.99999959e-01],\n",
              "       [1.85185162e-05, 4.99999937e-04, 9.99999875e-01],\n",
              "       [6.24999460e-05, 1.31249887e-03, 9.99999137e-01],\n",
              "       [0.00000000e+00, 4.99999938e-04, 9.99999875e-01],\n",
              "       [0.00000000e+00, 8.97435536e-04, 9.99999597e-01],\n",
              "       [0.00000000e+00, 7.71428342e-04, 9.99999702e-01],\n",
              "       [3.33332924e-05, 1.56666474e-03, 9.99998772e-01],\n",
              "       [1.99999942e-05, 7.59999780e-04, 9.99999711e-01],\n",
              "       [6.80272090e-06, 2.38095231e-04, 9.99999972e-01],\n",
              "       [1.29870116e-05, 4.54545408e-04, 9.99999897e-01],\n",
              "       [0.00000000e+00, 5.18987272e-04, 9.99999865e-01],\n",
              "       [3.03030112e-05, 1.12121142e-03, 9.99999371e-01],\n",
              "       [2.17391119e-05, 1.30434672e-03, 9.99999149e-01],\n",
              "       [1.69491506e-05, 4.74576218e-04, 9.99999887e-01],\n",
              "       [1.51515142e-05, 3.48484827e-04, 9.99999939e-01],\n",
              "       [0.00000000e+00, 3.65079341e-04, 9.99999933e-01],\n",
              "       [0.00000000e+00, 1.76470313e-03, 9.99998443e-01],\n",
              "       [0.00000000e+00, 7.57575540e-04, 9.99999713e-01],\n",
              "       [1.20481897e-05, 7.10843194e-04, 9.99999747e-01],\n",
              "       [2.63157588e-05, 1.52631401e-03, 9.99998835e-01],\n",
              "       [0.00000000e+00, 2.19512190e-04, 9.99999976e-01],\n",
              "       [0.00000000e+00, 7.79660780e-04, 9.99999696e-01],\n",
              "       [5.88234551e-05, 1.58823329e-03, 9.99998737e-01],\n",
              "       [2.12765795e-05, 1.23404161e-03, 9.99999238e-01],\n",
              "       [3.33332906e-05, 1.59999795e-03, 9.99998719e-01],\n",
              "       [0.00000000e+00, 7.53845940e-04, 9.99999716e-01],\n",
              "       [2.77777510e-05, 1.38888755e-03, 9.99999035e-01],\n",
              "       [0.00000000e+00, 7.36110912e-04, 9.99999729e-01],\n",
              "       [0.00000000e+00, 7.01754213e-04, 9.99999754e-01],\n",
              "       [8.77192891e-06, 4.56140303e-04, 9.99999896e-01],\n",
              "       [2.38095003e-05, 1.40476052e-03, 9.99999013e-01],\n",
              "       [1.58730133e-05, 5.71428478e-04, 9.99999837e-01],\n",
              "       [0.00000000e+00, 4.03846121e-04, 9.99999918e-01],\n",
              "       [0.00000000e+00, 7.11538281e-04, 9.99999747e-01],\n",
              "       [0.00000000e+00, 1.45454392e-03, 9.99998942e-01],\n",
              "       [3.44826872e-05, 2.03447855e-03, 9.99997930e-01],\n",
              "       [0.00000000e+00, 4.68354379e-04, 9.99999890e-01],\n",
              "       [0.00000000e+00, 6.55737564e-04, 9.99999785e-01],\n",
              "       [0.00000000e+00, 6.62162017e-04, 9.99999781e-01],\n",
              "       [0.00000000e+00, 2.77777767e-04, 9.99999961e-01],\n",
              "       [0.00000000e+00, 1.99999600e-03, 9.99998000e-01],\n",
              "       [0.00000000e+00, 5.12820445e-04, 9.99999869e-01],\n",
              "       [0.00000000e+00, 2.85714274e-04, 9.99999959e-01],\n",
              "       [1.99999942e-05, 7.59999780e-04, 9.99999711e-01],\n",
              "       [7.63358734e-06, 3.43511430e-04, 9.99999941e-01],\n",
              "       [0.00000000e+00, 2.91666654e-04, 9.99999957e-01],\n",
              "       [4.34782105e-05, 1.52173737e-03, 9.99998841e-01],\n",
              "       [0.00000000e+00, 1.74999732e-03, 9.99998469e-01],\n",
              "       [1.12359544e-05, 3.48314586e-04, 9.99999939e-01],\n",
              "       [0.00000000e+00, 3.74999974e-04, 9.99999930e-01],\n",
              "       [2.12765851e-05, 9.99999500e-04, 9.99999500e-01],\n",
              "       [0.00000000e+00, 2.99999987e-04, 9.99999955e-01],\n",
              "       [1.38888872e-05, 4.86111054e-04, 9.99999882e-01],\n",
              "       [8.62068937e-06, 2.58620681e-04, 9.99999967e-01],\n",
              "       [0.00000000e+00, 3.19672115e-04, 9.99999949e-01],\n",
              "       [1.20481920e-05, 3.49397569e-04, 9.99999939e-01],\n",
              "       [1.58730125e-05, 6.50793513e-04, 9.99999788e-01],\n",
              "       [0.00000000e+00, 5.33333257e-04, 9.99999858e-01],\n",
              "       [0.00000000e+00, 6.44067663e-04, 9.99999793e-01],\n",
              "       [0.00000000e+00, 1.77777497e-03, 9.99998420e-01],\n",
              "       [1.33333315e-05, 5.19999930e-04, 9.99999865e-01],\n",
              "       [0.00000000e+00, 3.20987638e-04, 9.99999948e-01],\n",
              "       [0.00000000e+00, 3.67924503e-04, 9.99999932e-01],\n",
              "       [1.81818167e-05, 3.99999968e-04, 9.99999920e-01],\n",
              "       [0.00000000e+00, 3.05084732e-04, 9.99999953e-01],\n",
              "       [0.00000000e+00, 1.42856997e-03, 9.99998980e-01],\n",
              "       [1.81818158e-05, 5.09090843e-04, 9.99999870e-01],\n",
              "       [7.46268603e-06, 3.80596987e-04, 9.99999928e-01],\n",
              "       [0.00000000e+00, 1.74999732e-03, 9.99998469e-01],\n",
              "       [0.00000000e+00, 5.99999892e-04, 9.99999820e-01],\n",
              "       [9.61538322e-06, 5.38461460e-04, 9.99999855e-01],\n",
              "       [1.72413774e-05, 4.65517191e-04, 9.99999891e-01],\n",
              "       [3.12499912e-05, 7.49999789e-04, 9.99999718e-01],\n",
              "       [1.38888873e-05, 4.72222170e-04, 9.99999888e-01],\n",
              "       [0.00000000e+00, 8.74999665e-04, 9.99999617e-01],\n",
              "       [4.99998437e-05, 2.49999218e-03, 9.99996874e-01],\n",
              "       [2.43902360e-05, 8.04877788e-04, 9.99999676e-01],\n",
              "       [2.12765917e-05, 6.17021159e-04, 9.99999809e-01],\n",
              "       [0.00000000e+00, 1.22222131e-03, 9.99999253e-01],\n",
              "       [0.00000000e+00, 2.22222217e-04, 9.99999975e-01],\n",
              "       [0.00000000e+00, 4.47619003e-04, 9.99999900e-01],\n",
              "       [0.00000000e+00, 5.82278382e-04, 9.99999830e-01],\n",
              "       [7.46268609e-06, 3.58208932e-04, 9.99999936e-01],\n",
              "       [2.04081539e-05, 9.59183232e-04, 9.99999540e-01],\n",
              "       [7.09219815e-06, 3.47517710e-04, 9.99999940e-01],\n",
              "       [0.00000000e+00, 3.19999984e-04, 9.99999949e-01],\n",
              "       [0.00000000e+00, 5.35211191e-04, 9.99999857e-01],\n",
              "       [3.84615282e-05, 7.30769035e-04, 9.99999732e-01],\n",
              "       [0.00000000e+00, 4.80519425e-04, 9.99999885e-01],\n",
              "       [1.96078348e-05, 9.21568236e-04, 9.99999575e-01],\n",
              "       [0.00000000e+00, 7.01754213e-04, 9.99999754e-01],\n",
              "       [0.00000000e+00, 2.87999988e-04, 9.99999959e-01],\n",
              "       [0.00000000e+00, 2.70270260e-04, 9.99999963e-01],\n",
              "       [0.00000000e+00, 5.34482682e-04, 9.99999857e-01],\n",
              "       [0.00000000e+00, 9.11110733e-04, 9.99999585e-01],\n",
              "       [0.00000000e+00, 7.77777543e-04, 9.99999698e-01],\n",
              "       [2.70270193e-05, 7.56756540e-04, 9.99999713e-01],\n",
              "       [1.36986282e-05, 5.34246499e-04, 9.99999857e-01],\n",
              "       [1.17647052e-05, 3.29411747e-04, 9.99999946e-01],\n",
              "       [0.00000000e+00, 7.45097832e-04, 9.99999722e-01],\n",
              "       [0.00000000e+00, 1.09302260e-03, 9.99999403e-01],\n",
              "       [0.00000000e+00, 5.13888821e-04, 9.99999868e-01],\n",
              "       [2.77777520e-05, 1.36110985e-03, 9.99999073e-01],\n",
              "       [0.00000000e+00, 2.04545027e-03, 9.99997908e-01],\n",
              "       [0.00000000e+00, 4.86111054e-04, 9.99999882e-01],\n",
              "       [3.70370224e-05, 8.88888537e-04, 9.99999604e-01],\n",
              "       [2.85714207e-05, 7.42856938e-04, 9.99999724e-01],\n",
              "       [7.51879660e-06, 3.23308254e-04, 9.99999948e-01],\n",
              "       [0.00000000e+00, 5.06493442e-04, 9.99999872e-01],\n",
              "       [1.16279062e-05, 3.72092997e-04, 9.99999931e-01]])"
            ]
          },
          "metadata": {},
          "execution_count": 35
        }
      ]
    },
    {
      "cell_type": "code",
      "metadata": {
        "colab": {
          "base_uri": "https://localhost:8080/"
        },
        "id": "Vuf_6yM3yQX8",
        "outputId": "24617863-7f7b-44aa-e126-969126c9890a"
      },
      "source": [
        "normalized_test_X = normalizer.fit_transform(X_test)\n",
        "normalized_test_X"
      ],
      "execution_count": 37,
      "outputs": [
        {
          "output_type": "execute_result",
          "data": {
            "text/plain": [
              "array([[4.54544460e-05, 2.09090452e-03, 9.99997813e-01],\n",
              "       [1.13636338e-05, 6.70454395e-04, 9.99999775e-01],\n",
              "       [2.27272681e-05, 6.36363507e-04, 9.99999797e-01],\n",
              "       [1.04166654e-05, 4.99999937e-04, 9.99999875e-01],\n",
              "       [3.57142665e-05, 1.03571373e-03, 9.99999463e-01],\n",
              "       [1.61290304e-05, 4.83870911e-04, 9.99999883e-01],\n",
              "       [9.34579349e-06, 4.39252294e-04, 9.99999903e-01],\n",
              "       [1.20481920e-05, 3.49397569e-04, 9.99999939e-01],\n",
              "       [0.00000000e+00, 5.33333257e-04, 9.99999858e-01],\n",
              "       [0.00000000e+00, 6.46153711e-04, 9.99999791e-01],\n",
              "       [1.53846132e-05, 5.38461460e-04, 9.99999855e-01],\n",
              "       [2.94117290e-05, 1.55882163e-03, 9.99998785e-01],\n",
              "       [2.08333309e-05, 4.79166612e-04, 9.99999885e-01],\n",
              "       [4.34782444e-05, 8.69564888e-04, 9.99999621e-01],\n",
              "       [0.00000000e+00, 3.44827566e-04, 9.99999941e-01],\n",
              "       [0.00000000e+00, 3.24074057e-04, 9.99999947e-01],\n",
              "       [2.63157648e-05, 1.36841977e-03, 9.99999063e-01],\n",
              "       [1.35135109e-05, 6.21621501e-04, 9.99999807e-01],\n",
              "       [0.00000000e+00, 9.28571028e-04, 9.99999569e-01],\n",
              "       [0.00000000e+00, 9.33332927e-04, 9.99999564e-01],\n",
              "       [3.70370247e-05, 8.14814544e-04, 9.99999667e-01],\n",
              "       [0.00000000e+00, 3.62499976e-04, 9.99999934e-01],\n",
              "       [0.00000000e+00, 2.04347399e-03, 9.99997912e-01],\n",
              "       [1.31578908e-05, 7.76315555e-04, 9.99999699e-01],\n",
              "       [0.00000000e+00, 9.99999500e-04, 9.99999500e-01],\n",
              "       [0.00000000e+00, 2.21738585e-03, 9.99997542e-01],\n",
              "       [0.00000000e+00, 5.24999928e-04, 9.99999862e-01],\n",
              "       [0.00000000e+00, 6.98113037e-04, 9.99999756e-01],\n",
              "       [7.99999923e-06, 4.39999957e-04, 9.99999903e-01],\n",
              "       [4.76190281e-05, 9.04761533e-04, 9.99999590e-01],\n",
              "       [2.43902285e-05, 1.12195051e-03, 9.99999370e-01],\n",
              "       [0.00000000e+00, 2.71428561e-04, 9.99999963e-01],\n",
              "       [0.00000000e+00, 2.49999992e-04, 9.99999969e-01],\n",
              "       [0.00000000e+00, 3.54430357e-04, 9.99999937e-01],\n",
              "       [0.00000000e+00, 3.73831750e-04, 9.99999930e-01],\n",
              "       [0.00000000e+00, 4.66666616e-04, 9.99999891e-01],\n",
              "       [0.00000000e+00, 6.72727121e-04, 9.99999774e-01],\n",
              "       [1.53846128e-05, 5.84615285e-04, 9.99999829e-01],\n",
              "       [0.00000000e+00, 8.66666341e-04, 9.99999624e-01],\n",
              "       [1.47058818e-05, 2.64705873e-04, 9.99999965e-01],\n",
              "       [0.00000000e+00, 1.45454392e-03, 9.99998942e-01],\n",
              "       [1.81818164e-05, 4.36363595e-04, 9.99999905e-01],\n",
              "       [0.00000000e+00, 3.46153825e-04, 9.99999940e-01],\n",
              "       [0.00000000e+00, 2.34999351e-03, 9.99997239e-01],\n",
              "       [0.00000000e+00, 4.08163231e-04, 9.99999917e-01],\n",
              "       [7.19424424e-06, 3.16546747e-04, 9.99999950e-01],\n",
              "       [0.00000000e+00, 4.75409782e-04, 9.99999887e-01],\n",
              "       [1.40845057e-05, 4.36619677e-04, 9.99999905e-01],\n",
              "       [0.00000000e+00, 1.17073091e-03, 9.99999315e-01],\n",
              "       [2.32558067e-05, 7.90697427e-04, 9.99999687e-01],\n",
              "       [0.00000000e+00, 3.16455680e-04, 9.99999950e-01],\n",
              "       [1.21951194e-05, 6.46341328e-04, 9.99999791e-01],\n",
              "       [1.81818138e-05, 6.90908926e-04, 9.99999761e-01],\n",
              "       [0.00000000e+00, 3.12499985e-04, 9.99999951e-01],\n",
              "       [1.24999987e-05, 4.62499950e-04, 9.99999893e-01],\n",
              "       [3.22580523e-05, 8.70967411e-04, 9.99999620e-01],\n",
              "       [0.00000000e+00, 5.88235192e-04, 9.99999827e-01],\n",
              "       [8.47457607e-06, 2.20338978e-04, 9.99999976e-01],\n",
              "       [0.00000000e+00, 4.18918882e-04, 9.99999912e-01],\n",
              "       [0.00000000e+00, 4.07894703e-04, 9.99999917e-01],\n",
              "       [1.96078368e-05, 8.03921309e-04, 9.99999677e-01],\n",
              "       [1.75438563e-05, 6.14034972e-04, 9.99999811e-01],\n",
              "       [1.11111093e-05, 5.77777681e-04, 9.99999833e-01],\n",
              "       [1.14942523e-05, 3.21839064e-04, 9.99999948e-01],\n",
              "       [0.00000000e+00, 4.74576218e-04, 9.99999887e-01],\n",
              "       [7.29926993e-06, 1.97080288e-04, 9.99999981e-01],\n",
              "       [1.11111099e-05, 4.66666616e-04, 9.99999891e-01],\n",
              "       [6.94444407e-06, 3.26388871e-04, 9.99999947e-01],\n",
              "       [1.69491488e-05, 6.61016805e-04, 9.99999781e-01],\n",
              "       [8.84955714e-06, 2.92035386e-04, 9.99999957e-01],\n",
              "       [7.24637630e-06, 3.76811567e-04, 9.99999929e-01],\n",
              "       [0.00000000e+00, 2.23529406e-04, 9.99999975e-01],\n",
              "       [0.00000000e+00, 4.65517191e-04, 9.99999892e-01],\n",
              "       [0.00000000e+00, 1.14999924e-03, 9.99999339e-01],\n",
              "       [0.00000000e+00, 1.38235162e-03, 9.99999045e-01],\n",
              "       [1.99999951e-05, 6.99999828e-04, 9.99999755e-01],\n",
              "       [0.00000000e+00, 4.21052594e-04, 9.99999911e-01],\n",
              "       [3.84614555e-05, 2.07691860e-03, 9.99997842e-01],\n",
              "       [2.12765898e-05, 7.44680644e-04, 9.99999722e-01],\n",
              "       [1.28205114e-05, 4.74358921e-04, 9.99999887e-01],\n",
              "       [1.75438577e-05, 4.73684157e-04, 9.99999888e-01],\n",
              "       [0.00000000e+00, 1.64285493e-03, 9.99998651e-01],\n",
              "       [7.46268625e-06, 2.91044764e-04, 9.99999958e-01],\n",
              "       [2.56410093e-05, 1.12820441e-03, 9.99999363e-01],\n",
              "       [3.84614460e-05, 2.19230242e-03, 9.99997596e-01],\n",
              "       [0.00000000e+00, 2.66666657e-04, 9.99999964e-01],\n",
              "       [0.00000000e+00, 7.88461293e-04, 9.99999689e-01],\n",
              "       [0.00000000e+00, 6.48648512e-04, 9.99999790e-01],\n",
              "       [0.00000000e+00, 3.02325568e-04, 9.99999954e-01],\n",
              "       [0.00000000e+00, 2.71604928e-04, 9.99999963e-01],\n",
              "       [0.00000000e+00, 5.69767349e-04, 9.99999838e-01],\n",
              "       [1.85185144e-05, 6.66666518e-04, 9.99999778e-01],\n",
              "       [0.00000000e+00, 6.77965946e-04, 9.99999770e-01],\n",
              "       [1.24999984e-05, 5.12499933e-04, 9.99999869e-01],\n",
              "       [0.00000000e+00, 1.62499785e-03, 9.99998680e-01],\n",
              "       [1.26582263e-05, 4.93670826e-04, 9.99999878e-01],\n",
              "       [0.00000000e+00, 4.53846107e-04, 9.99999897e-01],\n",
              "       [0.00000000e+00, 6.56249859e-04, 9.99999785e-01],\n",
              "       [6.99300651e-06, 3.70629345e-04, 9.99999931e-01],\n",
              "       [0.00000000e+00, 3.03571415e-04, 9.99999954e-01],\n",
              "       [8.19672042e-06, 4.67213064e-04, 9.99999891e-01],\n",
              "       [1.40845049e-05, 5.49295692e-04, 9.99999849e-01],\n",
              "       [0.00000000e+00, 1.87999668e-03, 9.99998233e-01],\n",
              "       [0.00000000e+00, 1.26315689e-03, 9.99999202e-01],\n",
              "       [1.99999948e-05, 7.19999813e-04, 9.99999741e-01],\n",
              "       [6.66666651e-06, 2.13333328e-04, 9.99999977e-01],\n",
              "       [3.44827114e-05, 1.65517015e-03, 9.99998630e-01],\n",
              "       [0.00000000e+00, 2.80373821e-04, 9.99999961e-01],\n",
              "       [0.00000000e+00, 1.76470313e-03, 9.99998443e-01],\n",
              "       [0.00000000e+00, 6.22950699e-04, 9.99999806e-01],\n",
              "       [0.00000000e+00, 1.06451553e-03, 9.99999433e-01],\n",
              "       [0.00000000e+00, 5.49295692e-04, 9.99999849e-01],\n",
              "       [0.00000000e+00, 1.41025501e-03, 9.99999006e-01],\n",
              "       [2.56410054e-05, 1.25640926e-03, 9.99999210e-01],\n",
              "       [8.92857077e-06, 3.83928543e-04, 9.99999926e-01],\n",
              "       [0.00000000e+00, 1.34999877e-03, 9.99999089e-01],\n",
              "       [5.88234605e-05, 1.52940997e-03, 9.99998829e-01],\n",
              "       [1.07526873e-05, 3.97849431e-04, 9.99999921e-01],\n",
              "       [0.00000000e+00, 7.77777543e-04, 9.99999698e-01],\n",
              "       [0.00000000e+00, 5.73770397e-04, 9.99999835e-01],\n",
              "       [0.00000000e+00, 3.86666638e-04, 9.99999925e-01],\n",
              "       [1.24999986e-05, 4.74999946e-04, 9.99999887e-01],\n",
              "       [0.00000000e+00, 1.73076664e-03, 9.99998502e-01],\n",
              "       [9.25925810e-06, 4.99999937e-04, 9.99999875e-01],\n",
              "       [0.00000000e+00, 1.99999600e-03, 9.99998000e-01],\n",
              "       [3.57142736e-05, 8.21428294e-04, 9.99999662e-01],\n",
              "       [0.00000000e+00, 4.93333273e-04, 9.99999878e-01],\n",
              "       [0.00000000e+00, 6.46153711e-04, 9.99999791e-01],\n",
              "       [1.40845053e-05, 4.92957687e-04, 9.99999878e-01],\n",
              "       [6.84931465e-06, 3.49315047e-04, 9.99999939e-01],\n",
              "       [0.00000000e+00, 4.06249966e-04, 9.99999917e-01],\n",
              "       [1.12359546e-05, 2.69662912e-04, 9.99999964e-01]])"
            ]
          },
          "metadata": {},
          "execution_count": 37
        }
      ]
    },
    {
      "cell_type": "markdown",
      "metadata": {
        "id": "_VB4b09roPhq"
      },
      "source": [
        "**Fitting Random Forest to the Training set**"
      ]
    },
    {
      "cell_type": "code",
      "metadata": {
        "id": "0UxhDc2lnqKu",
        "colab": {
          "base_uri": "https://localhost:8080/"
        },
        "outputId": "9adfe37d-a167-47aa-c7bc-6d90832d20c2"
      },
      "source": [
        "from sklearn.ensemble import RandomForestClassifier\n",
        "\n",
        "clf = RandomForestClassifier(random_state=0)\n",
        "\n",
        "# fit the model to the training set\n",
        "\n",
        "clf.fit(X_train, y_train)\n"
      ],
      "execution_count": 41,
      "outputs": [
        {
          "output_type": "stream",
          "name": "stdout",
          "text": [
            "Model accuracy score : 0.8939\n"
          ]
        }
      ]
    },
    {
      "cell_type": "markdown",
      "metadata": {
        "id": "XOl6_ERWoYh2"
      },
      "source": [
        "**Predicting the Test set results**"
      ]
    },
    {
      "cell_type": "code",
      "metadata": {
        "id": "7xFCuAXjnqPN",
        "colab": {
          "base_uri": "https://localhost:8080/"
        },
        "outputId": "6370eae0-f81c-4f06-db51-cc8c2317714d"
      },
      "source": [
        "# Predict on the test set results\n",
        "\n",
        "y_pred = clf.predict(X_test)\n",
        "y_pred\n"
      ],
      "execution_count": 45,
      "outputs": [
        {
          "output_type": "execute_result",
          "data": {
            "text/plain": [
              "array([1, 0, 0, 1, 0, 0, 1, 0, 0, 0, 0, 1, 0, 0, 0, 1, 1, 0, 0, 1, 0, 0,\n",
              "       1, 0, 0, 1, 1, 0, 1, 0, 0, 0, 1, 0, 1, 0, 0, 0, 0, 0, 1, 0, 0, 1,\n",
              "       0, 1, 0, 0, 1, 0, 0, 1, 0, 0, 0, 0, 1, 1, 0, 0, 0, 0, 1, 0, 0, 1,\n",
              "       1, 1, 0, 1, 0, 0, 0, 0, 1, 0, 1, 1, 0, 0, 0, 1, 1, 1, 1, 1, 0, 0,\n",
              "       0, 0, 1, 0, 0, 0, 0, 0, 1, 0, 1, 0, 1, 0, 1, 0, 0, 1, 1, 1, 1, 0,\n",
              "       0, 0, 1, 1, 1, 0, 0, 1, 0, 0, 0, 0, 1, 1, 1, 0, 0, 0, 0, 0, 1, 0])"
            ]
          },
          "metadata": {},
          "execution_count": 45
        }
      ]
    },
    {
      "cell_type": "code",
      "metadata": {
        "colab": {
          "base_uri": "https://localhost:8080/"
        },
        "id": "azRJefnj0Jip",
        "outputId": "59bb249f-941e-4b52-ca11-3c65d8d19e2f"
      },
      "source": [
        "# Check accuracy score \n",
        "from sklearn.metrics import accuracy_score\n",
        "\n",
        "print('Model accuracy score : {0:0.4f}'. format(accuracy_score(y_test, y_pred)))"
      ],
      "execution_count": 44,
      "outputs": [
        {
          "output_type": "stream",
          "name": "stdout",
          "text": [
            "Model accuracy score : 0.8939\n"
          ]
        }
      ]
    },
    {
      "cell_type": "markdown",
      "metadata": {
        "id": "BqpQCXT30Xan"
      },
      "source": [
        "Random Forest Classifier model with parameter n_estimators=500\n",
        ":"
      ]
    },
    {
      "cell_type": "code",
      "metadata": {
        "colab": {
          "base_uri": "https://localhost:8080/"
        },
        "id": "3jzbv_8d0OFB",
        "outputId": "9b8fdb25-b88e-49d1-9266-2ca9f7ec7501"
      },
      "source": [
        "rfc_100 = RandomForestClassifier(n_estimators=500, random_state=0)\n",
        "\n",
        "# fit the model to the training set\n",
        "\n",
        "rfc_100.fit(X_train, y_train)\n",
        "\n",
        "# Predict on the test set results\n",
        "\n",
        "y_pred_100 = rfc_100.predict(X_test)\n",
        "\n",
        "# Check accuracy score \n",
        "\n",
        "print('Model accuracy score with 100 decision-trees : {0:0.4f}'. format(accuracy_score(y_test, y_pred_100)))"
      ],
      "execution_count": 48,
      "outputs": [
        {
          "output_type": "stream",
          "name": "stdout",
          "text": [
            "Model accuracy score with 100 decision-trees : 0.9167\n"
          ]
        }
      ]
    },
    {
      "cell_type": "markdown",
      "metadata": {
        "id": "pqaQ_HTZogaZ"
      },
      "source": [
        "**Making the Confusion Matrix**"
      ]
    },
    {
      "cell_type": "code",
      "metadata": {
        "id": "DdqNOMK8nqSs",
        "colab": {
          "base_uri": "https://localhost:8080/"
        },
        "outputId": "f2d0a1cf-4eaf-42ca-8d7b-38f73b3656bc"
      },
      "source": [
        "from sklearn.metrics import confusion_matrix\n",
        "\n",
        "cm = confusion_matrix(y_test, y_pred)\n",
        "\n",
        "print('Confusion matrix\\n\\n', cm)"
      ],
      "execution_count": 49,
      "outputs": [
        {
          "output_type": "stream",
          "name": "stdout",
          "text": [
            "Confusion matrix\n",
            "\n",
            " [[74  6]\n",
            " [ 8 44]]\n"
          ]
        }
      ]
    },
    {
      "cell_type": "markdown",
      "metadata": {
        "id": "Ko5EDqqiopBl"
      },
      "source": [
        "**Visualising the Training set results**"
      ]
    },
    {
      "cell_type": "code",
      "metadata": {
        "id": "y7C-xZjFnqVC"
      },
      "source": [
        ""
      ],
      "execution_count": null,
      "outputs": []
    },
    {
      "cell_type": "markdown",
      "metadata": {
        "id": "ExFSX84Hou9C"
      },
      "source": [
        "**Visualising the Test set results**"
      ]
    },
    {
      "cell_type": "code",
      "metadata": {
        "id": "Pk-gogCZ1P-h"
      },
      "source": [
        ""
      ],
      "execution_count": null,
      "outputs": []
    }
  ]
}